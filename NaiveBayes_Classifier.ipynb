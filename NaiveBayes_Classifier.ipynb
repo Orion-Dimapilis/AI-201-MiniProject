{
 "cells": [
  {
   "cell_type": "code",
   "execution_count": 1,
   "id": "f0369b4d-bfe2-45df-9286-bc5c03b082ef",
   "metadata": {
    "id": "f0369b4d-bfe2-45df-9286-bc5c03b082ef",
    "tags": []
   },
   "outputs": [],
   "source": [
    "import pandas as pd\n",
    "import numpy as np\n",
    "import seaborn as sns\n",
    "import matplotlib.pyplot as plt\n",
    "import re\n",
    "import time\n",
    "\n",
    "from sklearn.model_selection import RandomizedSearchCV, cross_val_score, train_test_split\n",
    "from sklearn.feature_extraction.text import CountVectorizer\n",
    "from sklearn.preprocessing import LabelEncoder\n",
    "from sklearn.naive_bayes import MultinomialNB\n",
    "from scipy.stats import uniform\n",
    "from sklearn.pipeline import Pipeline\n",
    "from sklearn.feature_extraction.text import TfidfVectorizer\n",
    "from sklearn.metrics import accuracy_score, classification_report, confusion_matrix\n",
    "from sklearn.metrics import f1_score"
   ]
  },
  {
   "cell_type": "code",
   "execution_count": 2,
   "id": "a72b97b3-3505-4f8d-b488-436fa4e985dd",
   "metadata": {
    "id": "a72b97b3-3505-4f8d-b488-436fa4e985dd",
    "tags": []
   },
   "outputs": [],
   "source": [
    "filipino_news_df = pd.read_csv('./Philippine_Fake_News_(Filipino Language).csv')"
   ]
  },
  {
   "cell_type": "code",
   "execution_count": 3,
   "id": "9da07032-ae59-43a2-b27f-e04602a976ed",
   "metadata": {
    "colab": {
     "base_uri": "https://localhost:8080/",
     "height": 206
    },
    "id": "9da07032-ae59-43a2-b27f-e04602a976ed",
    "outputId": "c5ec3755-6c25-4f0e-8735-31fe0a906dd5",
    "tags": []
   },
   "outputs": [
    {
     "data": {
      "text/html": [
       "<div>\n",
       "<style scoped>\n",
       "    .dataframe tbody tr th:only-of-type {\n",
       "        vertical-align: middle;\n",
       "    }\n",
       "\n",
       "    .dataframe tbody tr th {\n",
       "        vertical-align: top;\n",
       "    }\n",
       "\n",
       "    .dataframe thead th {\n",
       "        text-align: right;\n",
       "    }\n",
       "</style>\n",
       "<table border=\"1\" class=\"dataframe\">\n",
       "  <thead>\n",
       "    <tr style=\"text-align: right;\">\n",
       "      <th></th>\n",
       "      <th>label</th>\n",
       "      <th>article</th>\n",
       "    </tr>\n",
       "  </thead>\n",
       "  <tbody>\n",
       "    <tr>\n",
       "      <th>0</th>\n",
       "      <td>0</td>\n",
       "      <td>Ayon sa TheWrap.com, naghain ng kaso si Krupa,...</td>\n",
       "    </tr>\n",
       "    <tr>\n",
       "      <th>1</th>\n",
       "      <td>0</td>\n",
       "      <td>Kilala rin ang singer sa pagkumpas ng kanyang ...</td>\n",
       "    </tr>\n",
       "    <tr>\n",
       "      <th>2</th>\n",
       "      <td>0</td>\n",
       "      <td>BLANTYRE, Malawi (AP) -- Bumiyahe patungong Ma...</td>\n",
       "    </tr>\n",
       "    <tr>\n",
       "      <th>3</th>\n",
       "      <td>0</td>\n",
       "      <td>Kasama sa programa ang pananalangin, bulaklak ...</td>\n",
       "    </tr>\n",
       "    <tr>\n",
       "      <th>4</th>\n",
       "      <td>0</td>\n",
       "      <td>Linisin ang Friendship Department dahil dadala...</td>\n",
       "    </tr>\n",
       "  </tbody>\n",
       "</table>\n",
       "</div>"
      ],
      "text/plain": [
       "   label                                            article\n",
       "0      0  Ayon sa TheWrap.com, naghain ng kaso si Krupa,...\n",
       "1      0  Kilala rin ang singer sa pagkumpas ng kanyang ...\n",
       "2      0  BLANTYRE, Malawi (AP) -- Bumiyahe patungong Ma...\n",
       "3      0  Kasama sa programa ang pananalangin, bulaklak ...\n",
       "4      0  Linisin ang Friendship Department dahil dadala..."
      ]
     },
     "execution_count": 3,
     "metadata": {},
     "output_type": "execute_result"
    }
   ],
   "source": [
    "filipino_news_df.head()"
   ]
  },
  {
   "cell_type": "code",
   "execution_count": 4,
   "id": "db9457da-bfe0-4974-9247-e27c2b1cddfd",
   "metadata": {
    "colab": {
     "base_uri": "https://localhost:8080/",
     "height": 300
    },
    "id": "db9457da-bfe0-4974-9247-e27c2b1cddfd",
    "outputId": "aa0b29d8-119d-4174-c8fc-0ac53fbda3c9",
    "tags": []
   },
   "outputs": [
    {
     "data": {
      "text/html": [
       "<div>\n",
       "<style scoped>\n",
       "    .dataframe tbody tr th:only-of-type {\n",
       "        vertical-align: middle;\n",
       "    }\n",
       "\n",
       "    .dataframe tbody tr th {\n",
       "        vertical-align: top;\n",
       "    }\n",
       "\n",
       "    .dataframe thead th {\n",
       "        text-align: right;\n",
       "    }\n",
       "</style>\n",
       "<table border=\"1\" class=\"dataframe\">\n",
       "  <thead>\n",
       "    <tr style=\"text-align: right;\">\n",
       "      <th></th>\n",
       "      <th>label</th>\n",
       "    </tr>\n",
       "  </thead>\n",
       "  <tbody>\n",
       "    <tr>\n",
       "      <th>count</th>\n",
       "      <td>3206.000000</td>\n",
       "    </tr>\n",
       "    <tr>\n",
       "      <th>mean</th>\n",
       "      <td>0.500000</td>\n",
       "    </tr>\n",
       "    <tr>\n",
       "      <th>std</th>\n",
       "      <td>0.500078</td>\n",
       "    </tr>\n",
       "    <tr>\n",
       "      <th>min</th>\n",
       "      <td>0.000000</td>\n",
       "    </tr>\n",
       "    <tr>\n",
       "      <th>25%</th>\n",
       "      <td>0.000000</td>\n",
       "    </tr>\n",
       "    <tr>\n",
       "      <th>50%</th>\n",
       "      <td>0.500000</td>\n",
       "    </tr>\n",
       "    <tr>\n",
       "      <th>75%</th>\n",
       "      <td>1.000000</td>\n",
       "    </tr>\n",
       "    <tr>\n",
       "      <th>max</th>\n",
       "      <td>1.000000</td>\n",
       "    </tr>\n",
       "  </tbody>\n",
       "</table>\n",
       "</div>"
      ],
      "text/plain": [
       "             label\n",
       "count  3206.000000\n",
       "mean      0.500000\n",
       "std       0.500078\n",
       "min       0.000000\n",
       "25%       0.000000\n",
       "50%       0.500000\n",
       "75%       1.000000\n",
       "max       1.000000"
      ]
     },
     "execution_count": 4,
     "metadata": {},
     "output_type": "execute_result"
    }
   ],
   "source": [
    "filipino_news_df.describe()"
   ]
  },
  {
   "cell_type": "markdown",
   "id": "9f9aa4bd-5f4b-4c43-a0fa-e54260b5e345",
   "metadata": {
    "id": "9f9aa4bd-5f4b-4c43-a0fa-e54260b5e345"
   },
   "source": [
    "#### Counts per Class"
   ]
  },
  {
   "cell_type": "code",
   "execution_count": 5,
   "id": "d2e00a59-ca5d-48ba-a3cc-ebc46452597d",
   "metadata": {
    "colab": {
     "base_uri": "https://localhost:8080/"
    },
    "id": "d2e00a59-ca5d-48ba-a3cc-ebc46452597d",
    "outputId": "35cc35e4-82d7-4391-c1e1-87b21299e739",
    "tags": []
   },
   "outputs": [
    {
     "data": {
      "text/plain": [
       "label\n",
       "0    1603\n",
       "1    1603\n",
       "Name: count, dtype: int64"
      ]
     },
     "execution_count": 5,
     "metadata": {},
     "output_type": "execute_result"
    }
   ],
   "source": [
    "filipino_news_df['label'].value_counts()"
   ]
  },
  {
   "cell_type": "markdown",
   "id": "0c2b1bb2-f2ef-4919-913a-2b1e07228717",
   "metadata": {
    "id": "0c2b1bb2-f2ef-4919-913a-2b1e07228717"
   },
   "source": [
    "#### Vocabulary Size"
   ]
  },
  {
   "cell_type": "code",
   "execution_count": 6,
   "id": "bc81281c-89e5-4dea-bdcf-cc5c23495d9c",
   "metadata": {
    "colab": {
     "base_uri": "https://localhost:8080/"
    },
    "id": "bc81281c-89e5-4dea-bdcf-cc5c23495d9c",
    "outputId": "431ca46a-4ecb-4d0f-8216-b79ecf2d58ed",
    "tags": []
   },
   "outputs": [
    {
     "name": "stdout",
     "output_type": "stream",
     "text": [
      "Vocabulary size: 39063\n"
     ]
    }
   ],
   "source": [
    "vectorizer = CountVectorizer()\n",
    "\n",
    "# Fit and transform the 'text' column to get the document-term matrix\n",
    "temp = vectorizer.fit_transform(filipino_news_df['article'])\n",
    "\n",
    "# Get the vocabulary from the vectorizer\n",
    "filipino_vocabulary = vectorizer.get_feature_names_out()\n",
    "\n",
    "# Get the size of the vocabulary\n",
    "filipino_vocabulary_size = len(filipino_vocabulary)\n",
    "print(\"Vocabulary size:\",filipino_vocabulary_size)"
   ]
  },
  {
   "cell_type": "markdown",
   "id": "8cbbb1f5-5c3c-4b63-b831-4c0b296c67cc",
   "metadata": {
    "id": "8cbbb1f5-5c3c-4b63-b831-4c0b296c67cc"
   },
   "source": [
    "#### Splitting data into train and test data"
   ]
  },
  {
   "cell_type": "code",
   "execution_count": 7,
   "id": "1cb8cec4-bf7f-46a9-bc7d-fc4b5fc34bf6",
   "metadata": {
    "id": "1cb8cec4-bf7f-46a9-bc7d-fc4b5fc34bf6",
    "tags": []
   },
   "outputs": [],
   "source": [
    "X = filipino_news_df['article']\n",
    "y = filipino_news_df['label']\n",
    "\n",
    "# Split the data into training and testing sets\n",
    "X_train, X_test, y_train, y_test = train_test_split(X, y, test_size=0.2, random_state=42)"
   ]
  },
  {
   "cell_type": "markdown",
   "id": "b6b0639a-22f3-4cf7-a65b-d2f5662560a9",
   "metadata": {
    "id": "b6b0639a-22f3-4cf7-a65b-d2f5662560a9"
   },
   "source": [
    "#### Count Vectorizer"
   ]
  },
  {
   "cell_type": "markdown",
   "id": "fcddb506-3b25-44ee-945a-88241292d871",
   "metadata": {
    "id": "fcddb506-3b25-44ee-945a-88241292d871"
   },
   "source": [
    "##### Setting the parameter grid for tuning"
   ]
  },
  {
   "cell_type": "code",
   "execution_count": 8,
   "id": "40b254af-d664-49ea-a3cf-fd390ca9a950",
   "metadata": {
    "id": "40b254af-d664-49ea-a3cf-fd390ca9a950",
    "tags": []
   },
   "outputs": [],
   "source": [
    "# Define the parameter grid for RandomizedSearchCV\n",
    "param_dist = {\n",
    "    'vectorizer__ngram_range': [(1, 1), (1, 2), (2, 2)],\n",
    "    'classifier__alpha': np.arange(0.1,2.01,0.05)\n",
    "}\n"
   ]
  },
  {
   "cell_type": "markdown",
   "id": "ddaf102d-ceb4-4670-bdb0-09d171ea65cb",
   "metadata": {
    "id": "ddaf102d-ceb4-4670-bdb0-09d171ea65cb"
   },
   "source": [
    "##### Using the Whole Vocabulary"
   ]
  },
  {
   "cell_type": "code",
   "execution_count": 41,
   "id": "41a94ab6-a85a-443d-a1b4-25b0f80757b8",
   "metadata": {
    "colab": {
     "base_uri": "https://localhost:8080/"
    },
    "id": "41a94ab6-a85a-443d-a1b4-25b0f80757b8",
    "outputId": "1cef5b59-78f3-415f-bb42-fdb0ecd4d26a",
    "tags": []
   },
   "outputs": [
    {
     "name": "stdout",
     "output_type": "stream",
     "text": [
      "Fitting 3 folds for each of 15 candidates, totalling 45 fits\n",
      "Best Parameters:  {'vectorizer__ngram_range': (1, 2), 'classifier__alpha': 0.15000000000000002}\n",
      "Best F1 Score: 0.9022\n",
      "Test F1: 0.9078\n",
      "Training time: 193.6130\n"
     ]
    }
   ],
   "source": [
    "pipeline = Pipeline([\n",
    "    ('vectorizer', CountVectorizer()),\n",
    "    ('classifier', MultinomialNB())\n",
    "])\n",
    "\n",
    "# Initialize the RandomizedSearchCV\n",
    "random_search = RandomizedSearchCV(\n",
    "    pipeline,\n",
    "    param_distributions=param_dist,\n",
    "    n_iter=15,\n",
    "    scoring='f1',\n",
    "    n_jobs=8,\n",
    "    cv=3,\n",
    "    verbose=1,\n",
    "    random_state=42\n",
    ")\n",
    "\n",
    "# Record the training time\n",
    "start_time = time.time()\n",
    "random_search.fit(X_train, y_train)\n",
    "end_time = time.time()\n",
    "\n",
    "# Calculate and store the training time\n",
    "training_time_count_whole = end_time - start_time\n",
    "\n",
    "# # Print the best parameters and best score\n",
    "print(\"Best Parameters: \", random_search.best_params_)\n",
    "print(\"Best F1 Score: {:.4f}\".format(random_search.best_score_))\n",
    "\n",
    "# Evaluate the model on the test set\n",
    "test_f1_score = random_search.score(X_test, y_test)\n",
    "print(\"Test F1: {:.4f}\".format(test_f1_score))\n",
    "print(\"Training time: {:.4f}\".format(training_time_count_whole))"
   ]
  },
  {
   "cell_type": "markdown",
   "id": "5386ec9c-f731-43ef-a064-b4a5474dea7e",
   "metadata": {
    "id": "5386ec9c-f731-43ef-a064-b4a5474dea7e"
   },
   "source": [
    "##### Parameter Tuning"
   ]
  },
  {
   "cell_type": "code",
   "execution_count": 13,
   "id": "faf1f88c-2414-491b-84f0-43d9f76715d5",
   "metadata": {
    "colab": {
     "base_uri": "https://localhost:8080/"
    },
    "id": "faf1f88c-2414-491b-84f0-43d9f76715d5",
    "outputId": "f61dc3ee-24ab-4164-aa18-d7fb02789a30",
    "scrolled": true,
    "tags": []
   },
   "outputs": [
    {
     "name": "stdout",
     "output_type": "stream",
     "text": [
      "Fitting 3 folds for each of 15 candidates, totalling 45 fits\n",
      "Fitting 3 folds for each of 15 candidates, totalling 45 fits\n",
      "Fitting 3 folds for each of 15 candidates, totalling 45 fits\n",
      "Fitting 3 folds for each of 15 candidates, totalling 45 fits\n",
      "Fitting 3 folds for each of 15 candidates, totalling 45 fits\n",
      "Fitting 3 folds for each of 15 candidates, totalling 45 fits\n",
      "Fitting 3 folds for each of 15 candidates, totalling 45 fits\n",
      "\n",
      "Overall Best Test Accuracy: 0.9243421052631579\n",
      "Corresponding Best max_features: 8000\n",
      "Corresponding Best alpha: 0.40000000000000013\n",
      "Corresponding Best N-gram: (1, 1)\n"
     ]
    }
   ],
   "source": [
    "training_times_count_dataset1 = []\n",
    "\n",
    "best_count_f1 = 0.0\n",
    "best_count_max_features = None\n",
    "best_count_ngram = None\n",
    "best_count_alpha = None\n",
    "\n",
    "for max_features in range(500,10001,1500):\n",
    "    # print(\"Max features:\", max_features)\n",
    "    # Create a pipeline with CountVectorizer and Multinomial Naive Bayes\n",
    "    pipeline = Pipeline([\n",
    "        ('vectorizer', CountVectorizer(max_features=max_features)),\n",
    "        ('classifier', MultinomialNB())\n",
    "    ])\n",
    "\n",
    "    # Initialize the RandomizedSearchCV\n",
    "    random_search = RandomizedSearchCV(\n",
    "        pipeline,\n",
    "        param_distributions=param_dist,\n",
    "        n_iter=15,\n",
    "        scoring='f1',\n",
    "        n_jobs=8,\n",
    "        cv=3,\n",
    "        verbose=1,\n",
    "        random_state=42\n",
    "    )\n",
    "\n",
    "    # Record the training time\n",
    "    start_time = time.time()\n",
    "    random_search.fit(X_train, y_train)\n",
    "    end_time = time.time()\n",
    "\n",
    "    # Calculate and store the training time\n",
    "    training_time = end_time - start_time\n",
    "    training_times_count_dataset1.append(training_time)\n",
    "\n",
    "    # # Print the best parameters and best score\n",
    "    # print(\"Best Parameters: \", random_search.best_params_)\n",
    "    # print(\"Best F1 Score: {:.4f}\".format(random_search.best_score_))\n",
    "\n",
    "    # Evaluate the model on the test set\n",
    "    test_f1_score = random_search.score(X_test, y_test)\n",
    "    # print(\"Test F1: {:.4f}\".format(test_f1_score))\n",
    "\n",
    "    # Update the best test accuracy if the current iteration performs better\n",
    "    if test_f1_score > best_count_f1:\n",
    "        best_count_f1 = test_f1_score\n",
    "        best_count_max_features = max_features\n",
    "        best_count_ngram = random_search.best_params_['vectorizer__ngram_range']\n",
    "        best_count_alpha = random_search.best_params_['classifier__alpha']\n",
    "\n",
    "# Print the overall best test accuracy and corresponding parameters\n",
    "print(\"\\nOverall Best Test Accuracy:\", best_count_f1)\n",
    "print(\"Corresponding Best max_features:\", best_count_max_features)\n",
    "print(\"Corresponding Best alpha:\", best_count_alpha)\n",
    "print(\"Corresponding Best N-gram:\", best_count_ngram)"
   ]
  },
  {
   "cell_type": "code",
   "execution_count": 16,
   "id": "f1c20825-813d-4205-9ba0-27894fa636dc",
   "metadata": {
    "tags": []
   },
   "outputs": [
    {
     "data": {
      "text/plain": [
       "[12.781685829162598,\n",
       " 10.842792749404907,\n",
       " 11.4315505027771,\n",
       " 11.024053573608398,\n",
       " 11.030488014221191,\n",
       " 11.05990481376648,\n",
       " 12.645775318145752]"
      ]
     },
     "execution_count": 16,
     "metadata": {},
     "output_type": "execute_result"
    }
   ],
   "source": [
    "training_times_count_dataset1"
   ]
  },
  {
   "cell_type": "code",
   "execution_count": 14,
   "id": "fe883ce3-49f7-4ca3-8572-231ce8deeb2c",
   "metadata": {
    "colab": {
     "base_uri": "https://localhost:8080/",
     "height": 472
    },
    "id": "fe883ce3-49f7-4ca3-8572-231ce8deeb2c",
    "outputId": "99145cb6-3fc3-4e17-bd72-7564634f9e07",
    "tags": []
   },
   "outputs": [
    {
     "data": {
      "image/png": "[encoded data removed]",
      "text/plain": [
       "<Figure size 640x480 with 1 Axes>"
      ]
     },
     "metadata": {},
     "output_type": "display_data"
    }
   ],
   "source": [
    "# Plot or analyze the training times against the dataset size\n",
    "plt.plot(range(500,10001,1500), training_times_count_dataset1, marker='o')\n",
    "plt.title('Training Time vs Number of Features for Naive Bayes with Count Vectorizer')\n",
    "plt.xlabel('Dataset Size')\n",
    "plt.ylabel('Training Time (seconds)')\n",
    "plt.ylim(0, 30)\n",
    "plt.show()"
   ]
  },
  {
   "cell_type": "markdown",
   "id": "e5db47ac-68e2-4a6a-ace6-bc735828b7b2",
   "metadata": {
    "id": "e5db47ac-68e2-4a6a-ace6-bc735828b7b2"
   },
   "source": [
    "##### TF-IDF Vectorizer"
   ]
  },
  {
   "cell_type": "markdown",
   "id": "44363eed-fe5d-41f8-b7cb-bf9709592712",
   "metadata": {
    "id": "44363eed-fe5d-41f8-b7cb-bf9709592712"
   },
   "source": [
    "##### Setting the parameter grid for tuning"
   ]
  },
  {
   "cell_type": "code",
   "execution_count": 17,
   "id": "7516455c-9f00-4449-8a17-6f5ebb04545f",
   "metadata": {
    "id": "7516455c-9f00-4449-8a17-6f5ebb04545f",
    "tags": []
   },
   "outputs": [],
   "source": [
    "# Define the parameter grid for RandomizedSearchCV\n",
    "param_dist = {\n",
    "    'vectorizer__ngram_range': [(1, 1), (1, 2), (2, 2)],\n",
    "    'classifier__alpha': np.arange(0.1,2.01,0.05)\n",
    "}"
   ]
  },
  {
   "cell_type": "markdown",
   "id": "f3c25792-d30a-43ab-ac05-393fdc455c6a",
   "metadata": {
    "id": "f3c25792-d30a-43ab-ac05-393fdc455c6a"
   },
   "source": [
    "##### Using the Whole Vocabulary"
   ]
  },
  {
   "cell_type": "code",
   "execution_count": 35,
   "id": "688a1d27-3d42-4a15-835c-ccd2ffbb496a",
   "metadata": {
    "colab": {
     "base_uri": "https://localhost:8080/"
    },
    "id": "688a1d27-3d42-4a15-835c-ccd2ffbb496a",
    "outputId": "f9a17332-0e81-4dbb-af57-7a65cae0231e",
    "tags": []
   },
   "outputs": [
    {
     "name": "stdout",
     "output_type": "stream",
     "text": [
      "Fitting 3 folds for each of 15 candidates, totalling 45 fits\n",
      "Best Parameters:  {'vectorizer__ngram_range': (1, 1), 'classifier__alpha': 0.40000000000000013}\n",
      "Best F1 Score: 0.7520\n",
      "Test F1: 0.7958\n",
      "Training time: 183.3082\n"
     ]
    }
   ],
   "source": [
    "pipeline = Pipeline([\n",
    "    ('vectorizer', TfidfVectorizer()),\n",
    "    ('classifier', MultinomialNB())\n",
    "])\n",
    "\n",
    "# Initialize the RandomizedSearchCV\n",
    "random_search = RandomizedSearchCV(\n",
    "    pipeline,\n",
    "    param_distributions=param_dist,\n",
    "    n_iter=15,\n",
    "    scoring='f1',\n",
    "    n_jobs=8,\n",
    "    cv=3,\n",
    "    verbose=1,\n",
    "    random_state=42\n",
    ")\n",
    "\n",
    "# Record the training time\n",
    "start_time = time.time()\n",
    "random_search.fit(X_train, y_train)\n",
    "end_time = time.time()\n",
    "\n",
    "# Calculate and store the training time\n",
    "training_time_tfidf_whole = end_time - start_time\n",
    "\n",
    "# # Print the best parameters and best score\n",
    "print(\"Best Parameters: \", random_search.best_params_)\n",
    "print(\"Best F1 Score: {:.4f}\".format(random_search.best_score_))\n",
    "\n",
    "# Evaluate the model on the test set\n",
    "test_f1_score = random_search.score(X_test, y_test)\n",
    "print(\"Test F1: {:.4f}\".format(test_f1_score))\n",
    "print(\"Training time: {:.4f}\".format(training_time_tfidf_whole))"
   ]
  },
  {
   "cell_type": "markdown",
   "id": "4146b734-fd37-423d-8c63-f09745fa386a",
   "metadata": {
    "id": "4146b734-fd37-423d-8c63-f09745fa386a"
   },
   "source": [
    "##### Parameter Tuning"
   ]
  },
  {
   "cell_type": "code",
   "execution_count": 20,
   "id": "9a2df19a-1430-4545-bec7-cf25696005b6",
   "metadata": {
    "colab": {
     "base_uri": "https://localhost:8080/"
    },
    "id": "9a2df19a-1430-4545-bec7-cf25696005b6",
    "outputId": "e4f998a9-15af-43b5-b21d-771ef8e963b9",
    "tags": []
   },
   "outputs": [
    {
     "name": "stdout",
     "output_type": "stream",
     "text": [
      "Fitting 3 folds for each of 15 candidates, totalling 45 fits\n",
      "Fitting 3 folds for each of 15 candidates, totalling 45 fits\n",
      "Fitting 3 folds for each of 15 candidates, totalling 45 fits\n",
      "Fitting 3 folds for each of 15 candidates, totalling 45 fits\n",
      "Fitting 3 folds for each of 15 candidates, totalling 45 fits\n",
      "Fitting 3 folds for each of 15 candidates, totalling 45 fits\n",
      "Fitting 3 folds for each of 15 candidates, totalling 45 fits\n",
      "\n",
      "Overall Best Test Accuracy: 0.9081632653061226\n",
      "Corresponding Best max_features: 9500\n",
      "Corresponding Best alpha: 0.15000000000000002\n",
      "Corresponding Best N-gram: (1, 2)\n"
     ]
    }
   ],
   "source": [
    "training_times_tfidf_dataset1 = []\n",
    "\n",
    "best_tfidf_f1 = 0.0\n",
    "best_tfidf_max_features = None\n",
    "best_tfidf_ngram = None\n",
    "best_tfidf_alpha = None\n",
    "\n",
    "for max_features in range(500,10001,1500):\n",
    "    # print(\"Max features:\", max_features)\n",
    "    # Create a pipeline with TF-IDF Vectorizer and Multinomial Naive Bayes\n",
    "    pipeline = Pipeline([\n",
    "        ('vectorizer', TfidfVectorizer(max_features=max_features)),\n",
    "        ('classifier', MultinomialNB())\n",
    "    ])\n",
    "\n",
    "    # Initialize the RandomizedSearchCV\n",
    "    random_search = RandomizedSearchCV(\n",
    "        pipeline,\n",
    "        param_distributions=param_dist,\n",
    "        n_iter=15,\n",
    "        scoring='f1',\n",
    "        n_jobs=8,\n",
    "        cv=3,\n",
    "        verbose=1,\n",
    "        random_state=42\n",
    "    )\n",
    "\n",
    "    # Record the training time\n",
    "    start_time = time.time()\n",
    "    random_search.fit(X_train, y_train)\n",
    "    end_time = time.time()\n",
    "\n",
    "    # Calculate and store the training time\n",
    "    training_time = end_time - start_time\n",
    "    training_times_tfidf_dataset1.append(training_time)\n",
    "\n",
    "    # # Print the best parameters and best score\n",
    "    # print(\"Best Parameters: \", random_search.best_params_)\n",
    "    # print(\"Best F1 Score: {:.4f}\".format(random_search.best_score_))\n",
    "\n",
    "    # Evaluate the model on the test set\n",
    "    test_f1_score = random_search.score(X_test, y_test)\n",
    "    # print(\"Test F1: {:.4f}\".format(test_f1_score))\n",
    "\n",
    "    # Update the best test accuracy if the current iteration performs better\n",
    "    if test_f1_score > best_tfidf_f1:\n",
    "        best_tfidf_f1 = test_f1_score\n",
    "        best_tfidf_max_features = max_features\n",
    "        best_tfidf_ngram = random_search.best_params_['vectorizer__ngram_range']\n",
    "        best_tfidf_alpha = random_search.best_params_['classifier__alpha']\n",
    "\n",
    "# Print the overall best test accuracy and corresponding parameters\n",
    "print(\"\\nOverall Best Test Accuracy:\", best_tfidf_f1)\n",
    "print(\"Corresponding Best max_features:\", best_tfidf_max_features)\n",
    "print(\"Corresponding Best alpha:\", best_tfidf_alpha)\n",
    "print(\"Corresponding Best N-gram:\", best_tfidf_ngram)"
   ]
  },
  {
   "cell_type": "code",
   "execution_count": 21,
   "id": "d089192a-ba43-4d43-8349-ee53f9995685",
   "metadata": {
    "tags": []
   },
   "outputs": [
    {
     "data": {
      "text/plain": [
       "[12.5738844871521,\n",
       " 11.488173484802246,\n",
       " 12.737465620040894,\n",
       " 12.20629358291626,\n",
       " 13.000053644180298,\n",
       " 12.541595697402954,\n",
       " 12.723864555358887]"
      ]
     },
     "execution_count": 21,
     "metadata": {},
     "output_type": "execute_result"
    }
   ],
   "source": [
    "training_times_tfidf_dataset1"
   ]
  },
  {
   "cell_type": "code",
   "execution_count": 36,
   "id": "784cb619-0962-4d0f-89e4-97c193fad01b",
   "metadata": {
    "colab": {
     "base_uri": "https://localhost:8080/",
     "height": 472
    },
    "id": "784cb619-0962-4d0f-89e4-97c193fad01b",
    "outputId": "1af61315-9a42-4c5f-88bf-3378fbf253f0",
    "tags": []
   },
   "outputs": [
    {
     "data": {
      "image/png": "[encoded data removed]",
      "text/plain": [
       "<Figure size 640x480 with 1 Axes>"
      ]
     },
     "metadata": {},
     "output_type": "display_data"
    }
   ],
   "source": [
    "# Plot or analyze the training times against the dataset size\n",
    "plt.plot(range(500,10001,1500), training_times_tfidf_dataset1, marker='o')\n",
    "plt.title('Training Time vs Number of Features for Naive Bayes with Tf-Idf Vectorizer')\n",
    "plt.xlabel('Dataset Size')\n",
    "plt.ylabel('Training Time (seconds)')\n",
    "plt.ylim(0, 30)\n",
    "plt.show()"
   ]
  },
  {
   "cell_type": "code",
   "execution_count": null,
   "id": "03fe4bde-0c1c-4fdf-8e7b-29c090964bdd",
   "metadata": {
    "colab": {
     "base_uri": "https://localhost:8080/"
    },
    "id": "03fe4bde-0c1c-4fdf-8e7b-29c090964bdd",
    "outputId": "7ba4518a-2d8a-4cf6-b1c1-285c57286096"
   },
   "outputs": [],
   "source": [
    "best_count_vectorizer = CountVectorizer(max_features=best_count_max_features)\n",
    "\n",
    "X_train_vectorized = best_count_vectorizer.fit_transform(X_train)\n",
    "\n",
    "# Create a Multinomial Naive Bayes classifier with the best alpha\n",
    "nb_classifier = MultinomialNB(alpha=best_count_alpha)\n",
    "\n",
    "# Train the classifier on the vectorized training data\n",
    "nb_classifier.fit(X_train_vectorized, y_train)\n",
    "\n",
    "# Transform the test data using the same vectorizer\n",
    "X_test_vectorized = best_count_vectorizer.transform(X_test)\n",
    "\n",
    "# Make predictions on the test set\n",
    "y_pred = nb_classifier.predict(X_test_vectorized)\n",
    "\n",
    "# Evaluate the performance\n",
    "accuracy = accuracy_score(y_test, y_pred)\n",
    "print(f\"Accuracy: {accuracy:.2f}\")\n",
    "\n",
    "# Print classification report\n",
    "print(\"Classification Report:\")\n",
    "print(classification_report(y_test, y_pred))\n",
    "\n",
    "# Print confusion matrix\n",
    "print(\"Confusion Matrix:\")\n",
    "print(confusion_matrix(y_test, y_pred))"
   ]
  },
  {
   "cell_type": "markdown",
   "id": "753db961-e569-46eb-a6e5-d7424f567cb8",
   "metadata": {
    "id": "753db961-e569-46eb-a6e5-d7424f567cb8"
   },
   "source": [
    "## Second Dataset"
   ]
  },
  {
   "cell_type": "code",
   "execution_count": 46,
   "id": "b9df1231-0893-44ad-a80c-cdde25a6bdb9",
   "metadata": {
    "id": "b9df1231-0893-44ad-a80c-cdde25a6bdb9",
    "tags": []
   },
   "outputs": [],
   "source": [
    "english_news_df = pd.read_csv('./Philippine_Fake_News_Corpus.csv')"
   ]
  },
  {
   "cell_type": "code",
   "execution_count": 47,
   "id": "d07067da-a271-4e82-bab0-fcaf2d0c19a5",
   "metadata": {
    "colab": {
     "base_uri": "https://localhost:8080/",
     "height": 519
    },
    "id": "d07067da-a271-4e82-bab0-fcaf2d0c19a5",
    "outputId": "fe27226f-b3f3-4393-c849-2d650aab9806",
    "tags": []
   },
   "outputs": [
    {
     "data": {
      "text/html": [
       "<div>\n",
       "<style scoped>\n",
       "    .dataframe tbody tr th:only-of-type {\n",
       "        vertical-align: middle;\n",
       "    }\n",
       "\n",
       "    .dataframe tbody tr th {\n",
       "        vertical-align: top;\n",
       "    }\n",
       "\n",
       "    .dataframe thead th {\n",
       "        text-align: right;\n",
       "    }\n",
       "</style>\n",
       "<table border=\"1\" class=\"dataframe\">\n",
       "  <thead>\n",
       "    <tr style=\"text-align: right;\">\n",
       "      <th></th>\n",
       "      <th>Headline</th>\n",
       "      <th>Content</th>\n",
       "      <th>Authors</th>\n",
       "      <th>Date</th>\n",
       "      <th>URL</th>\n",
       "      <th>Brand</th>\n",
       "      <th>Label</th>\n",
       "    </tr>\n",
       "  </thead>\n",
       "  <tbody>\n",
       "    <tr>\n",
       "      <th>0</th>\n",
       "      <td>PH ranks 2nd in Asia-Pacific in deaths due to ...</td>\n",
       "      <td>Pollution caused by traditional cooking fuel i...</td>\n",
       "      <td>['Philippine Daily Inquirer']</td>\n",
       "      <td>NaN</td>\n",
       "      <td>https://newsinfo.inquirer.net/987262/ph-ranks-...</td>\n",
       "      <td>Inquirer</td>\n",
       "      <td>Credible</td>\n",
       "    </tr>\n",
       "    <tr>\n",
       "      <th>1</th>\n",
       "      <td>Aguirre, PCSO chief deny plotting to kill ‘Ato...</td>\n",
       "      <td>Justice Secretary Vitaliano Aguirre 2nd and Ph...</td>\n",
       "      <td>['Jomar Canlas']</td>\n",
       "      <td>2017-04-28 20:12:54+00:00</td>\n",
       "      <td>https://www.manilatimes.net/aguirre-pcso-chief...</td>\n",
       "      <td>Manila Times</td>\n",
       "      <td>Credible</td>\n",
       "    </tr>\n",
       "    <tr>\n",
       "      <th>2</th>\n",
       "      <td>Duterte says charges vs ex-President will fail</td>\n",
       "      <td>President Rodrigo Duterte on Monday night desc...</td>\n",
       "      <td>['Christine O. Avendaño']</td>\n",
       "      <td>NaN</td>\n",
       "      <td>https://newsinfo.inquirer.net/914727/duterte-s...</td>\n",
       "      <td>Inquirer</td>\n",
       "      <td>Credible</td>\n",
       "    </tr>\n",
       "    <tr>\n",
       "      <th>3</th>\n",
       "      <td>Group warns BFAR on law enforcement fund</td>\n",
       "      <td>THE militant fisher folk group Pambansang Laka...</td>\n",
       "      <td>['Neil Alcober']</td>\n",
       "      <td>2017-08-12 19:54:48+00:00</td>\n",
       "      <td>https://www.manilatimes.net/group-warns-bfar-l...</td>\n",
       "      <td>Manila Times</td>\n",
       "      <td>Credible</td>\n",
       "    </tr>\n",
       "    <tr>\n",
       "      <th>4</th>\n",
       "      <td>Solon asks Duterte for jet ski to Panatag</td>\n",
       "      <td>Magdalo Rep. Gary Alejano is willing to lead t...</td>\n",
       "      <td>['Dj Yap']</td>\n",
       "      <td>NaN</td>\n",
       "      <td>https://newsinfo.inquirer.net/882744/solon-ask...</td>\n",
       "      <td>Inquirer</td>\n",
       "      <td>Credible</td>\n",
       "    </tr>\n",
       "  </tbody>\n",
       "</table>\n",
       "</div>"
      ],
      "text/plain": [
       "                                            Headline  \\\n",
       "0  PH ranks 2nd in Asia-Pacific in deaths due to ...   \n",
       "1  Aguirre, PCSO chief deny plotting to kill ‘Ato...   \n",
       "2     Duterte says charges vs ex-President will fail   \n",
       "3           Group warns BFAR on law enforcement fund   \n",
       "4          Solon asks Duterte for jet ski to Panatag   \n",
       "\n",
       "                                             Content  \\\n",
       "0  Pollution caused by traditional cooking fuel i...   \n",
       "1  Justice Secretary Vitaliano Aguirre 2nd and Ph...   \n",
       "2  President Rodrigo Duterte on Monday night desc...   \n",
       "3  THE militant fisher folk group Pambansang Laka...   \n",
       "4  Magdalo Rep. Gary Alejano is willing to lead t...   \n",
       "\n",
       "                         Authors                       Date  \\\n",
       "0  ['Philippine Daily Inquirer']                        NaN   \n",
       "1               ['Jomar Canlas']  2017-04-28 20:12:54+00:00   \n",
       "2      ['Christine O. Avendaño']                        NaN   \n",
       "3               ['Neil Alcober']  2017-08-12 19:54:48+00:00   \n",
       "4                     ['Dj Yap']                        NaN   \n",
       "\n",
       "                                                 URL         Brand     Label  \n",
       "0  https://newsinfo.inquirer.net/987262/ph-ranks-...      Inquirer  Credible  \n",
       "1  https://www.manilatimes.net/aguirre-pcso-chief...  Manila Times  Credible  \n",
       "2  https://newsinfo.inquirer.net/914727/duterte-s...      Inquirer  Credible  \n",
       "3  https://www.manilatimes.net/group-warns-bfar-l...  Manila Times  Credible  \n",
       "4  https://newsinfo.inquirer.net/882744/solon-ask...      Inquirer  Credible  "
      ]
     },
     "execution_count": 47,
     "metadata": {},
     "output_type": "execute_result"
    }
   ],
   "source": [
    "english_news_df.head()"
   ]
  },
  {
   "cell_type": "code",
   "execution_count": 48,
   "id": "f84683b8-13b6-42c5-ad0e-a11ba9630650",
   "metadata": {
    "colab": {
     "base_uri": "https://localhost:8080/"
    },
    "id": "f84683b8-13b6-42c5-ad0e-a11ba9630650",
    "outputId": "f09c9e71-6922-4d19-ccc0-50a7faf071e2",
    "tags": []
   },
   "outputs": [
    {
     "data": {
      "text/plain": [
       "Label\n",
       "Credible        14802\n",
       "Not Credible     7656\n",
       "Name: count, dtype: int64"
      ]
     },
     "execution_count": 48,
     "metadata": {},
     "output_type": "execute_result"
    }
   ],
   "source": [
    "english_news_df['Label'].value_counts()"
   ]
  },
  {
   "cell_type": "markdown",
   "id": "5e3db0ad-6e86-49c8-9fa4-648a10a25392",
   "metadata": {},
   "source": [
    "#### Vocabulary Size"
   ]
  },
  {
   "cell_type": "code",
   "execution_count": 49,
   "id": "28b1571d-6af2-4af6-b318-a1d78636b6bb",
   "metadata": {
    "tags": []
   },
   "outputs": [
    {
     "name": "stdout",
     "output_type": "stream",
     "text": [
      "Vocabulary size: 119472\n"
     ]
    }
   ],
   "source": [
    "vectorizer = CountVectorizer()\n",
    "\n",
    "# Fit and transform the 'text' column to get the document-term matrix\n",
    "temp = vectorizer.fit_transform(english_news_df['Content'])\n",
    "\n",
    "# Get the vocabulary from the vectorizer\n",
    "english_vocabulary = vectorizer.get_feature_names_out()\n",
    "\n",
    "# Get the size of the vocabulary\n",
    "english_vocabulary_size = len(english_vocabulary)\n",
    "print(\"Vocabulary size:\",english_vocabulary_size)"
   ]
  },
  {
   "cell_type": "code",
   "execution_count": 50,
   "id": "90e96fde-783f-4373-b1b5-ad7e292ff1f6",
   "metadata": {
    "colab": {
     "base_uri": "https://localhost:8080/"
    },
    "id": "90e96fde-783f-4373-b1b5-ad7e292ff1f6",
    "outputId": "bf6ecc9c-5e84-40e9-d970-d173a8e06aaa"
   },
   "outputs": [
    {
     "name": "stdout",
     "output_type": "stream",
     "text": [
      "Label Mapping: {'Credible': 0, 'Not Credible': 1}\n"
     ]
    }
   ],
   "source": [
    "label_encoder = LabelEncoder()\n",
    "\n",
    "# Encode the 'Label' column\n",
    "english_news_df['Label'] = label_encoder.fit_transform(english_news_df['Label'])\n",
    "\n",
    "# The mapping between original labels and encoded values\n",
    "label_mapping = dict(zip(label_encoder.classes_, label_encoder.transform(label_encoder.classes_)))\n",
    "print(\"Label Mapping:\", label_mapping)"
   ]
  },
  {
   "cell_type": "code",
   "execution_count": 51,
   "id": "4f96262e-85b4-4e34-a26a-95b3a5a52c04",
   "metadata": {
    "id": "4f96262e-85b4-4e34-a26a-95b3a5a52c04"
   },
   "outputs": [],
   "source": [
    "X = english_news_df['Content']\n",
    "y = english_news_df['Label']\n",
    "\n",
    "# Split the data into training and testing sets\n",
    "X_train, X_test, y_train, y_test = train_test_split(X, y, test_size=0.2, random_state=42)"
   ]
  },
  {
   "cell_type": "markdown",
   "id": "SnVbxQ1Ye-zB",
   "metadata": {
    "id": "SnVbxQ1Ye-zB"
   },
   "source": [
    "#### Count Vectorizer"
   ]
  },
  {
   "cell_type": "markdown",
   "id": "6ONuk0bMe-zH",
   "metadata": {
    "id": "6ONuk0bMe-zH"
   },
   "source": [
    "##### Setting the parameter grid for tuning"
   ]
  },
  {
   "cell_type": "code",
   "execution_count": 52,
   "id": "34ESgE13e-zI",
   "metadata": {
    "id": "34ESgE13e-zI"
   },
   "outputs": [],
   "source": [
    "# Define the parameter grid for RandomizedSearchCV\n",
    "param_dist = {\n",
    "    'vectorizer__ngram_range': [(1, 1), (1, 2), (2, 2)],\n",
    "    'classifier__alpha': np.arange(0.1,2.01,0.05)\n",
    "}\n"
   ]
  },
  {
   "cell_type": "markdown",
   "id": "AXLyZXc8e-zI",
   "metadata": {
    "id": "AXLyZXc8e-zI"
   },
   "source": [
    "##### Using the Whole Vocabulary"
   ]
  },
  {
   "cell_type": "code",
   "execution_count": 53,
   "id": "JcCiZEMge-zI",
   "metadata": {
    "colab": {
     "base_uri": "https://localhost:8080/"
    },
    "id": "JcCiZEMge-zI",
    "outputId": "62372be1-7fd7-4fea-e428-391f9a66681f"
   },
   "outputs": [
    {
     "name": "stdout",
     "output_type": "stream",
     "text": [
      "Fitting 3 folds for each of 15 candidates, totalling 45 fits\n",
      "Best Parameters:  {'vectorizer__ngram_range': (1, 2), 'classifier__alpha': 0.15000000000000002}\n",
      "Best F1 Score: 0.9022\n",
      "Test F1: 0.9078\n",
      "Training time: 199.8194\n"
     ]
    }
   ],
   "source": [
    "pipeline = Pipeline([\n",
    "    ('vectorizer', CountVectorizer()),\n",
    "    ('classifier', MultinomialNB())\n",
    "])\n",
    "\n",
    "# Initialize the RandomizedSearchCV\n",
    "random_search = RandomizedSearchCV(\n",
    "    pipeline,\n",
    "    param_distributions=param_dist,\n",
    "    n_iter=15,\n",
    "    scoring='f1',\n",
    "    n_jobs=8,\n",
    "    cv=3,\n",
    "    verbose=1,\n",
    "    random_state=42\n",
    ")\n",
    "\n",
    "# Record the training time\n",
    "start_time = time.time()\n",
    "random_search.fit(X_train, y_train)\n",
    "end_time = time.time()\n",
    "\n",
    "# Calculate and store the training time\n",
    "training_time_count_whole2 = end_time - start_time\n",
    "\n",
    "# # Print the best parameters and best score\n",
    "print(\"Best Parameters: \", random_search.best_params_)\n",
    "print(\"Best F1 Score: {:.4f}\".format(random_search.best_score_))\n",
    "\n",
    "# Evaluate the model on the test set\n",
    "test_f1_score = random_search.score(X_test, y_test)\n",
    "print(\"Test F1: {:.4f}\".format(test_f1_score))\n",
    "print(\"Training time: {:.4f}\".format(training_time_count_whole2))"
   ]
  },
  {
   "cell_type": "markdown",
   "id": "0qWJefjte-zI",
   "metadata": {
    "id": "0qWJefjte-zI"
   },
   "source": [
    "##### Parameter Tuning"
   ]
  },
  {
   "cell_type": "code",
   "execution_count": 54,
   "id": "7iPp8Bi0e-zI",
   "metadata": {
    "colab": {
     "base_uri": "https://localhost:8080/"
    },
    "id": "7iPp8Bi0e-zI",
    "outputId": "b288b6a2-bcf8-49c3-8744-d090a40b865b",
    "scrolled": true,
    "tags": []
   },
   "outputs": [
    {
     "name": "stdout",
     "output_type": "stream",
     "text": [
      "Fitting 3 folds for each of 15 candidates, totalling 45 fits\n",
      "Fitting 3 folds for each of 15 candidates, totalling 45 fits\n",
      "Fitting 3 folds for each of 15 candidates, totalling 45 fits\n",
      "Fitting 3 folds for each of 15 candidates, totalling 45 fits\n",
      "Fitting 3 folds for each of 15 candidates, totalling 45 fits\n",
      "Fitting 3 folds for each of 15 candidates, totalling 45 fits\n",
      "Fitting 3 folds for each of 15 candidates, totalling 45 fits\n",
      "\n",
      "Overall Best Test Accuracy: 0.8881206788183533\n",
      "Corresponding Best max_features: 8000\n",
      "Corresponding Best alpha: 0.8000000000000002\n",
      "Corresponding Best N-gram: (2, 2)\n"
     ]
    }
   ],
   "source": [
    "training_times_count_dataset2 = []\n",
    "\n",
    "best_count_f1 = 0.0\n",
    "best_count_max_features = None\n",
    "best_count_ngram = None\n",
    "best_count_alpha = None\n",
    "\n",
    "for max_features in range(500,10001,1500):\n",
    "    # print(\"Max features:\", max_features)\n",
    "    # Create a pipeline with CountVectorizer and Multinomial Naive Bayes\n",
    "    pipeline = Pipeline([\n",
    "        ('vectorizer', CountVectorizer(max_features=max_features)),\n",
    "        ('classifier', MultinomialNB())\n",
    "    ])\n",
    "\n",
    "    # Initialize the RandomizedSearchCV\n",
    "    random_search = RandomizedSearchCV(\n",
    "        pipeline,\n",
    "        param_distributions=param_dist,\n",
    "        n_iter=15,\n",
    "        scoring='f1',\n",
    "        n_jobs=8,\n",
    "        cv=3,\n",
    "        verbose=1,\n",
    "        random_state=42\n",
    "    )\n",
    "\n",
    "    # Record the training time\n",
    "    start_time = time.time()\n",
    "    random_search.fit(X_train, y_train)\n",
    "    end_time = time.time()\n",
    "\n",
    "    # Calculate and store the training time\n",
    "    training_time = end_time - start_time\n",
    "    training_times_count_dataset2.append(training_time)\n",
    "\n",
    "    # # Print the best parameters and best score\n",
    "    # print(\"Best Parameters: \", random_search.best_params_)\n",
    "    # print(\"Best F1 Score: {:.4f}\".format(random_search.best_score_))\n",
    "\n",
    "    # Evaluate the model on the test set\n",
    "    test_f1_score = random_search.score(X_test, y_test)\n",
    "    # print(\"Test F1: {:.4f}\".format(test_f1_score))\n",
    "\n",
    "    # Update the best test accuracy if the current iteration performs better\n",
    "    if test_f1_score > best_count_f1:\n",
    "        best_count_f1 = test_f1_score\n",
    "        best_count_max_features = max_features\n",
    "        best_count_ngram = random_search.best_params_['vectorizer__ngram_range']\n",
    "        best_count_alpha = random_search.best_params_['classifier__alpha']\n",
    "\n",
    "# Print the overall best test accuracy and corresponding parameters\n",
    "print(\"\\nOverall Best Test Accuracy:\", best_count_f1)\n",
    "print(\"Corresponding Best max_features:\", best_count_max_features)\n",
    "print(\"Corresponding Best alpha:\", best_count_alpha)\n",
    "print(\"Corresponding Best N-gram:\", best_count_ngram)"
   ]
  },
  {
   "cell_type": "code",
   "execution_count": 55,
   "id": "d07d81a6-822f-41ec-8702-62807c75f163",
   "metadata": {
    "tags": []
   },
   "outputs": [
    {
     "data": {
      "text/plain": [
       "[186.99473977088928,\n",
       " 187.45107173919678,\n",
       " 184.22576689720154,\n",
       " 190.4163055419922,\n",
       " 186.54155158996582,\n",
       " 188.2309546470642,\n",
       " 187.86454677581787]"
      ]
     },
     "execution_count": 55,
     "metadata": {},
     "output_type": "execute_result"
    }
   ],
   "source": [
    "training_times_count_dataset2"
   ]
  },
  {
   "cell_type": "code",
   "execution_count": 56,
   "id": "z735eSWMe-zJ",
   "metadata": {
    "id": "z735eSWMe-zJ",
    "tags": []
   },
   "outputs": [
    {
     "data": {
      "image/png": "[encoded data removed]",
      "text/plain": [
       "<Figure size 640x480 with 1 Axes>"
      ]
     },
     "metadata": {},
     "output_type": "display_data"
    }
   ],
   "source": [
    "# Plot or analyze the training times against the dataset size\n",
    "plt.plot(range(500,10001,1500), training_times_count_dataset2, marker='o')\n",
    "plt.title('Training Time vs Vocabulary for Naive Bayes with Count Vectorizer')\n",
    "plt.xlabel('Vocabulary Size')\n",
    "plt.ylabel('Training Time (seconds)')\n",
    "plt.ylim(170,200)\n",
    "plt.show()"
   ]
  },
  {
   "cell_type": "markdown",
   "id": "ZmTqGoY9e-zJ",
   "metadata": {
    "id": "ZmTqGoY9e-zJ"
   },
   "source": [
    "##### TF-IDF Vectorizer"
   ]
  },
  {
   "cell_type": "markdown",
   "id": "HwHwmy0He-zJ",
   "metadata": {
    "id": "HwHwmy0He-zJ"
   },
   "source": [
    "##### Setting the parameter grid for tuning"
   ]
  },
  {
   "cell_type": "code",
   "execution_count": 57,
   "id": "w-rP_mFJe-zJ",
   "metadata": {
    "id": "w-rP_mFJe-zJ",
    "tags": []
   },
   "outputs": [],
   "source": [
    "# Define the parameter grid for RandomizedSearchCV\n",
    "param_dist = {\n",
    "    'vectorizer__ngram_range': [(1, 1), (1, 2), (2, 2)],\n",
    "    'classifier__alpha': np.arange(0.1,2.01,0.05)\n",
    "}"
   ]
  },
  {
   "cell_type": "markdown",
   "id": "M--5gXKSe-zJ",
   "metadata": {
    "id": "M--5gXKSe-zJ"
   },
   "source": [
    "##### Using the Whole Vocabulary"
   ]
  },
  {
   "cell_type": "code",
   "execution_count": 58,
   "id": "R23D2Fyze-zJ",
   "metadata": {
    "id": "R23D2Fyze-zJ",
    "tags": []
   },
   "outputs": [
    {
     "name": "stdout",
     "output_type": "stream",
     "text": [
      "Fitting 3 folds for each of 15 candidates, totalling 45 fits\n",
      "Best Parameters:  {'vectorizer__ngram_range': (1, 1), 'classifier__alpha': 0.40000000000000013}\n",
      "Best F1 Score: 0.7520\n",
      "Test F1: 0.7958\n",
      "Training time: 189.4241\n"
     ]
    }
   ],
   "source": [
    "pipeline = Pipeline([\n",
    "    ('vectorizer', TfidfVectorizer()),\n",
    "    ('classifier', MultinomialNB())\n",
    "])\n",
    "\n",
    "# Initialize the RandomizedSearchCV\n",
    "random_search = RandomizedSearchCV(\n",
    "    pipeline,\n",
    "    param_distributions=param_dist,\n",
    "    n_iter=15,\n",
    "    scoring='f1',\n",
    "    n_jobs=8,\n",
    "    cv=3,\n",
    "    verbose=1,\n",
    "    random_state=42\n",
    ")\n",
    "\n",
    "# Record the training time\n",
    "start_time = time.time()\n",
    "random_search.fit(X_train, y_train)\n",
    "end_time = time.time()\n",
    "\n",
    "# Calculate and store the training time\n",
    "training_time_tfidf_whole2 = end_time - start_time\n",
    "\n",
    "# # Print the best parameters and best score\n",
    "print(\"Best Parameters: \", random_search.best_params_)\n",
    "print(\"Best F1 Score: {:.4f}\".format(random_search.best_score_))\n",
    "\n",
    "# Evaluate the model on the test set\n",
    "test_f1_score = random_search.score(X_test, y_test)\n",
    "print(\"Test F1: {:.4f}\".format(test_f1_score))\n",
    "print(\"Training time: {:.4f}\".format(training_time_tfidf_whole2))"
   ]
  },
  {
   "cell_type": "markdown",
   "id": "4Q8XQOioe-zJ",
   "metadata": {
    "id": "4Q8XQOioe-zJ"
   },
   "source": [
    "##### Parameter Tuning"
   ]
  },
  {
   "cell_type": "code",
   "execution_count": 59,
   "id": "tILNegsCe-zJ",
   "metadata": {
    "id": "tILNegsCe-zJ",
    "tags": []
   },
   "outputs": [
    {
     "name": "stdout",
     "output_type": "stream",
     "text": [
      "Fitting 3 folds for each of 15 candidates, totalling 45 fits\n",
      "Fitting 3 folds for each of 15 candidates, totalling 45 fits\n",
      "Fitting 3 folds for each of 15 candidates, totalling 45 fits\n",
      "Fitting 3 folds for each of 15 candidates, totalling 45 fits\n",
      "Fitting 3 folds for each of 15 candidates, totalling 45 fits\n",
      "Fitting 3 folds for each of 15 candidates, totalling 45 fits\n",
      "Fitting 3 folds for each of 15 candidates, totalling 45 fits\n",
      "\n",
      "Overall Best Test Accuracy: 0.8859278518037049\n",
      "Corresponding Best max_features: 8000\n",
      "Corresponding Best alpha: 0.25000000000000006\n",
      "Corresponding Best N-gram: (2, 2)\n"
     ]
    }
   ],
   "source": [
    "training_times_tfidf_dataset2 = []\n",
    "\n",
    "best_tfidf_f1 = 0.0\n",
    "best_tfidf_max_features = None\n",
    "best_tfidf_ngram = None\n",
    "best_tfidf_alpha = None\n",
    "\n",
    "for max_features in range(500,10001,1500):\n",
    "    # print(\"Max features:\", max_features)\n",
    "    # Create a pipeline with TF-IDF Vectorizer and Multinomial Naive Bayes\n",
    "    pipeline = Pipeline([\n",
    "        ('vectorizer', TfidfVectorizer(max_features=max_features)),\n",
    "        ('classifier', MultinomialNB())\n",
    "    ])\n",
    "\n",
    "    # Initialize the RandomizedSearchCV\n",
    "    random_search = RandomizedSearchCV(\n",
    "        pipeline,\n",
    "        param_distributions=param_dist,\n",
    "        n_iter=15,\n",
    "        scoring='f1',\n",
    "        n_jobs=8,\n",
    "        cv=3,\n",
    "        verbose=1,\n",
    "        random_state=42\n",
    "    )\n",
    "\n",
    "    # Record the training time\n",
    "    start_time = time.time()\n",
    "    random_search.fit(X_train, y_train)\n",
    "    end_time = time.time()\n",
    "\n",
    "    # Calculate and store the training time\n",
    "    training_time = end_time - start_time\n",
    "    training_times_tfidf_dataset2.append(training_time)\n",
    "\n",
    "    # # Print the best parameters and best score\n",
    "    # print(\"Best Parameters: \", random_search.best_params_)\n",
    "    # print(\"Best F1 Score: {:.4f}\".format(random_search.best_score_))\n",
    "\n",
    "    # Evaluate the model on the test set\n",
    "    test_f1_score = random_search.score(X_test, y_test)\n",
    "    # print(\"Test F1: {:.4f}\".format(test_f1_score))\n",
    "\n",
    "    # Update the best test accuracy if the current iteration performs better\n",
    "    if test_f1_score > best_tfidf_f1:\n",
    "        best_tfidf_f1 = test_f1_score\n",
    "        best_tfidf_max_features = max_features\n",
    "        best_tfidf_ngram = random_search.best_params_['vectorizer__ngram_range']\n",
    "        best_tfidf_alpha = random_search.best_params_['classifier__alpha']\n",
    "\n",
    "# Print the overall best test accuracy and corresponding parameters\n",
    "print(\"\\nOverall Best Test Accuracy:\", best_tfidf_f1)\n",
    "print(\"Corresponding Best max_features:\", best_tfidf_max_features)\n",
    "print(\"Corresponding Best alpha:\", best_tfidf_alpha)\n",
    "print(\"Corresponding Best N-gram:\", best_tfidf_ngram)"
   ]
  },
  {
   "cell_type": "code",
   "execution_count": 60,
   "id": "9e8e631f-c3a2-4e31-ba63-8d2b967aa0da",
   "metadata": {
    "tags": []
   },
   "outputs": [
    {
     "data": {
      "text/plain": [
       "[183.5131015777588,\n",
       " 184.51188325881958,\n",
       " 183.79959797859192,\n",
       " 198.44182348251343,\n",
       " 186.58185362815857,\n",
       " 188.74014806747437,\n",
       " 184.56705617904663]"
      ]
     },
     "execution_count": 60,
     "metadata": {},
     "output_type": "execute_result"
    }
   ],
   "source": [
    "training_times_tfidf_dataset2"
   ]
  },
  {
   "cell_type": "code",
   "execution_count": 63,
   "id": "8JMecV2Se-zK",
   "metadata": {
    "id": "8JMecV2Se-zK",
    "tags": []
   },
   "outputs": [
    {
     "data": {
      "image/png": "[encoded data removed]",
      "text/plain": [
       "<Figure size 640x480 with 1 Axes>"
      ]
     },
     "metadata": {},
     "output_type": "display_data"
    }
   ],
   "source": [
    "# Plot or analyze the training times against the dataset size\n",
    "plt.plot(range(500,10001,1500), training_times_tfidf_dataset2, marker='o')\n",
    "plt.title('Training Time vs Vocabulary Size for Naive Bayes with Tf-Idf Vectorizer')\n",
    "plt.xlabel('Vocabulary Size')\n",
    "plt.ylabel('Training Time (seconds)')\n",
    "plt.ylim(170,210)\n",
    "plt.show()"
   ]
  },
  {
   "cell_type": "code",
   "execution_count": null,
   "id": "7JQC2VGskfuF",
   "metadata": {
    "id": "7JQC2VGskfuF"
   },
   "outputs": [],
   "source": []
  }
 ],
 "metadata": {
  "colab": {
   "provenance": []
  },
  "environment": {
   "kernel": "python3",
   "name": "common-cpu.m114",
   "type": "gcloud",
   "uri": "gcr.io/deeplearning-platform-release/base-cpu:m114"
  },
  "kernelspec": {
   "display_name": "Python 3 (Local)",
   "language": "python",
   "name": "python3"
  },
  "language_info": {
   "codemirror_mode": {
    "name": "ipython",
    "version": 3
   },
   "file_extension": ".py",
   "mimetype": "text/x-python",
   "name": "python",
   "nbconvert_exporter": "python",
   "pygments_lexer": "ipython3",
   "version": "3.10.13"
  }
 },
 "nbformat": 4,
 "nbformat_minor": 5
}
