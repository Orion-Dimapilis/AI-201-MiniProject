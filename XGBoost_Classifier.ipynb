{
  "cells": [
    {
      "cell_type": "code",
      "execution_count": 1,
      "id": "004b51f8-b82e-4a6d-b70c-9b441d6681de",
      "metadata": {
        "id": "004b51f8-b82e-4a6d-b70c-9b441d6681de",
        "tags": []
      },
      "outputs": [],
      "source": [
        "import pandas as pd\n",
        "import numpy as np\n",
        "import seaborn as sns\n",
        "import matplotlib.pyplot as plt\n",
        "import re\n",
        "import time\n",
        "\n",
        "from sklearn.model_selection import train_test_split\n",
        "from sklearn.feature_extraction.text import CountVectorizer\n",
        "from sklearn.feature_extraction.text import TfidfVectorizer\n",
        "from sklearn.preprocessing import LabelEncoder\n",
        "from sklearn.pipeline import Pipeline\n",
        "from sklearn.model_selection import RandomizedSearchCV\n",
        "from xgboost import XGBClassifier\n",
        "from scipy.stats import uniform, randint"
      ]
    },
    {
      "cell_type": "markdown",
      "id": "4d51ef70-2272-4ef3-b616-278a33bcc7de",
      "metadata": {
        "id": "4d51ef70-2272-4ef3-b616-278a33bcc7de"
      },
      "source": [
        "# First Dataset"
      ]
    },
    {
      "cell_type": "code",
      "execution_count": 2,
      "id": "a6559529-656a-4de6-a871-3dc7a7a8aaba",
      "metadata": {
        "id": "a6559529-656a-4de6-a871-3dc7a7a8aaba",
        "tags": []
      },
      "outputs": [],
      "source": [
        "filipino_news_df = pd.read_csv('./Philippine_Fake_News_(Filipino Language).csv')"
      ]
    },
    {
      "cell_type": "code",
      "execution_count": 3,
      "id": "6a974050-88f6-41c3-9aea-cbc5de88979b",
      "metadata": {
        "colab": {
          "base_uri": "https://localhost:8080/",
          "height": 206
        },
        "id": "6a974050-88f6-41c3-9aea-cbc5de88979b",
        "outputId": "8d54c0c3-4bc0-4ab5-a17f-a6d4d899e576",
        "tags": []
      },
      "outputs": [
        {
          "output_type": "execute_result",
          "data": {
            "text/plain": [
              "   label                                            article\n",
              "0      0  Ayon sa TheWrap.com, naghain ng kaso si Krupa,...\n",
              "1      0  Kilala rin ang singer sa pagkumpas ng kanyang ...\n",
              "2      0  BLANTYRE, Malawi (AP) -- Bumiyahe patungong Ma...\n",
              "3      0  Kasama sa programa ang pananalangin, bulaklak ...\n",
              "4      0  Linisin ang Friendship Department dahil dadala..."
            ],
            "text/html": [
              "\n",
              "  <div id=\"df-51667a86-0342-4131-80f5-64d7f5708d50\" class=\"colab-df-container\">\n",
              "    <div>\n",
              "<style scoped>\n",
              "    .dataframe tbody tr th:only-of-type {\n",
              "        vertical-align: middle;\n",
              "    }\n",
              "\n",
              "    .dataframe tbody tr th {\n",
              "        vertical-align: top;\n",
              "    }\n",
              "\n",
              "    .dataframe thead th {\n",
              "        text-align: right;\n",
              "    }\n",
              "</style>\n",
              "<table border=\"1\" class=\"dataframe\">\n",
              "  <thead>\n",
              "    <tr style=\"text-align: right;\">\n",
              "      <th></th>\n",
              "      <th>label</th>\n",
              "      <th>article</th>\n",
              "    </tr>\n",
              "  </thead>\n",
              "  <tbody>\n",
              "    <tr>\n",
              "      <th>0</th>\n",
              "      <td>0</td>\n",
              "      <td>Ayon sa TheWrap.com, naghain ng kaso si Krupa,...</td>\n",
              "    </tr>\n",
              "    <tr>\n",
              "      <th>1</th>\n",
              "      <td>0</td>\n",
              "      <td>Kilala rin ang singer sa pagkumpas ng kanyang ...</td>\n",
              "    </tr>\n",
              "    <tr>\n",
              "      <th>2</th>\n",
              "      <td>0</td>\n",
              "      <td>BLANTYRE, Malawi (AP) -- Bumiyahe patungong Ma...</td>\n",
              "    </tr>\n",
              "    <tr>\n",
              "      <th>3</th>\n",
              "      <td>0</td>\n",
              "      <td>Kasama sa programa ang pananalangin, bulaklak ...</td>\n",
              "    </tr>\n",
              "    <tr>\n",
              "      <th>4</th>\n",
              "      <td>0</td>\n",
              "      <td>Linisin ang Friendship Department dahil dadala...</td>\n",
              "    </tr>\n",
              "  </tbody>\n",
              "</table>\n",
              "</div>\n",
              "    <div class=\"colab-df-buttons\">\n",
              "\n",
              "  <div class=\"colab-df-container\">\n",
              "    <button class=\"colab-df-convert\" onclick=\"convertToInteractive('df-51667a86-0342-4131-80f5-64d7f5708d50')\"\n",
              "            title=\"Convert this dataframe to an interactive table.\"\n",
              "            style=\"display:none;\">\n",
              "\n",
              "  <svg xmlns=\"http://www.w3.org/2000/svg\" height=\"24px\" viewBox=\"0 -960 960 960\">\n",
              "    <path d=\"M120-120v-720h720v720H120Zm60-500h600v-160H180v160Zm220 220h160v-160H400v160Zm0 220h160v-160H400v160ZM180-400h160v-160H180v160Zm440 0h160v-160H620v160ZM180-180h160v-160H180v160Zm440 0h160v-160H620v160Z\"/>\n",
              "  </svg>\n",
              "    </button>\n",
              "\n",
              "  <style>\n",
              "    .colab-df-container {\n",
              "      display:flex;\n",
              "      gap: 12px;\n",
              "    }\n",
              "\n",
              "    .colab-df-convert {\n",
              "      background-color: #E8F0FE;\n",
              "      border: none;\n",
              "      border-radius: 50%;\n",
              "      cursor: pointer;\n",
              "      display: none;\n",
              "      fill: #1967D2;\n",
              "      height: 32px;\n",
              "      padding: 0 0 0 0;\n",
              "      width: 32px;\n",
              "    }\n",
              "\n",
              "    .colab-df-convert:hover {\n",
              "      background-color: #E2EBFA;\n",
              "      box-shadow: 0px 1px 2px rgba(60, 64, 67, 0.3), 0px 1px 3px 1px rgba(60, 64, 67, 0.15);\n",
              "      fill: #174EA6;\n",
              "    }\n",
              "\n",
              "    .colab-df-buttons div {\n",
              "      margin-bottom: 4px;\n",
              "    }\n",
              "\n",
              "    [theme=dark] .colab-df-convert {\n",
              "      background-color: #3B4455;\n",
              "      fill: #D2E3FC;\n",
              "    }\n",
              "\n",
              "    [theme=dark] .colab-df-convert:hover {\n",
              "      background-color: #434B5C;\n",
              "      box-shadow: 0px 1px 3px 1px rgba(0, 0, 0, 0.15);\n",
              "      filter: drop-shadow(0px 1px 2px rgba(0, 0, 0, 0.3));\n",
              "      fill: #FFFFFF;\n",
              "    }\n",
              "  </style>\n",
              "\n",
              "    <script>\n",
              "      const buttonEl =\n",
              "        document.querySelector('#df-51667a86-0342-4131-80f5-64d7f5708d50 button.colab-df-convert');\n",
              "      buttonEl.style.display =\n",
              "        google.colab.kernel.accessAllowed ? 'block' : 'none';\n",
              "\n",
              "      async function convertToInteractive(key) {\n",
              "        const element = document.querySelector('#df-51667a86-0342-4131-80f5-64d7f5708d50');\n",
              "        const dataTable =\n",
              "          await google.colab.kernel.invokeFunction('convertToInteractive',\n",
              "                                                    [key], {});\n",
              "        if (!dataTable) return;\n",
              "\n",
              "        const docLinkHtml = 'Like what you see? Visit the ' +\n",
              "          '<a target=\"_blank\" href=https://colab.research.google.com/notebooks/data_table.ipynb>data table notebook</a>'\n",
              "          + ' to learn more about interactive tables.';\n",
              "        element.innerHTML = '';\n",
              "        dataTable['output_type'] = 'display_data';\n",
              "        await google.colab.output.renderOutput(dataTable, element);\n",
              "        const docLink = document.createElement('div');\n",
              "        docLink.innerHTML = docLinkHtml;\n",
              "        element.appendChild(docLink);\n",
              "      }\n",
              "    </script>\n",
              "  </div>\n",
              "\n",
              "\n",
              "<div id=\"df-f2ec470c-da0b-40fe-a121-4f1f49b40ae3\">\n",
              "  <button class=\"colab-df-quickchart\" onclick=\"quickchart('df-f2ec470c-da0b-40fe-a121-4f1f49b40ae3')\"\n",
              "            title=\"Suggest charts\"\n",
              "            style=\"display:none;\">\n",
              "\n",
              "<svg xmlns=\"http://www.w3.org/2000/svg\" height=\"24px\"viewBox=\"0 0 24 24\"\n",
              "     width=\"24px\">\n",
              "    <g>\n",
              "        <path d=\"M19 3H5c-1.1 0-2 .9-2 2v14c0 1.1.9 2 2 2h14c1.1 0 2-.9 2-2V5c0-1.1-.9-2-2-2zM9 17H7v-7h2v7zm4 0h-2V7h2v10zm4 0h-2v-4h2v4z\"/>\n",
              "    </g>\n",
              "</svg>\n",
              "  </button>\n",
              "\n",
              "<style>\n",
              "  .colab-df-quickchart {\n",
              "      --bg-color: #E8F0FE;\n",
              "      --fill-color: #1967D2;\n",
              "      --hover-bg-color: #E2EBFA;\n",
              "      --hover-fill-color: #174EA6;\n",
              "      --disabled-fill-color: #AAA;\n",
              "      --disabled-bg-color: #DDD;\n",
              "  }\n",
              "\n",
              "  [theme=dark] .colab-df-quickchart {\n",
              "      --bg-color: #3B4455;\n",
              "      --fill-color: #D2E3FC;\n",
              "      --hover-bg-color: #434B5C;\n",
              "      --hover-fill-color: #FFFFFF;\n",
              "      --disabled-bg-color: #3B4455;\n",
              "      --disabled-fill-color: #666;\n",
              "  }\n",
              "\n",
              "  .colab-df-quickchart {\n",
              "    background-color: var(--bg-color);\n",
              "    border: none;\n",
              "    border-radius: 50%;\n",
              "    cursor: pointer;\n",
              "    display: none;\n",
              "    fill: var(--fill-color);\n",
              "    height: 32px;\n",
              "    padding: 0;\n",
              "    width: 32px;\n",
              "  }\n",
              "\n",
              "  .colab-df-quickchart:hover {\n",
              "    background-color: var(--hover-bg-color);\n",
              "    box-shadow: 0 1px 2px rgba(60, 64, 67, 0.3), 0 1px 3px 1px rgba(60, 64, 67, 0.15);\n",
              "    fill: var(--button-hover-fill-color);\n",
              "  }\n",
              "\n",
              "  .colab-df-quickchart-complete:disabled,\n",
              "  .colab-df-quickchart-complete:disabled:hover {\n",
              "    background-color: var(--disabled-bg-color);\n",
              "    fill: var(--disabled-fill-color);\n",
              "    box-shadow: none;\n",
              "  }\n",
              "\n",
              "  .colab-df-spinner {\n",
              "    border: 2px solid var(--fill-color);\n",
              "    border-color: transparent;\n",
              "    border-bottom-color: var(--fill-color);\n",
              "    animation:\n",
              "      spin 1s steps(1) infinite;\n",
              "  }\n",
              "\n",
              "  @keyframes spin {\n",
              "    0% {\n",
              "      border-color: transparent;\n",
              "      border-bottom-color: var(--fill-color);\n",
              "      border-left-color: var(--fill-color);\n",
              "    }\n",
              "    20% {\n",
              "      border-color: transparent;\n",
              "      border-left-color: var(--fill-color);\n",
              "      border-top-color: var(--fill-color);\n",
              "    }\n",
              "    30% {\n",
              "      border-color: transparent;\n",
              "      border-left-color: var(--fill-color);\n",
              "      border-top-color: var(--fill-color);\n",
              "      border-right-color: var(--fill-color);\n",
              "    }\n",
              "    40% {\n",
              "      border-color: transparent;\n",
              "      border-right-color: var(--fill-color);\n",
              "      border-top-color: var(--fill-color);\n",
              "    }\n",
              "    60% {\n",
              "      border-color: transparent;\n",
              "      border-right-color: var(--fill-color);\n",
              "    }\n",
              "    80% {\n",
              "      border-color: transparent;\n",
              "      border-right-color: var(--fill-color);\n",
              "      border-bottom-color: var(--fill-color);\n",
              "    }\n",
              "    90% {\n",
              "      border-color: transparent;\n",
              "      border-bottom-color: var(--fill-color);\n",
              "    }\n",
              "  }\n",
              "</style>\n",
              "\n",
              "  <script>\n",
              "    async function quickchart(key) {\n",
              "      const quickchartButtonEl =\n",
              "        document.querySelector('#' + key + ' button');\n",
              "      quickchartButtonEl.disabled = true;  // To prevent multiple clicks.\n",
              "      quickchartButtonEl.classList.add('colab-df-spinner');\n",
              "      try {\n",
              "        const charts = await google.colab.kernel.invokeFunction(\n",
              "            'suggestCharts', [key], {});\n",
              "      } catch (error) {\n",
              "        console.error('Error during call to suggestCharts:', error);\n",
              "      }\n",
              "      quickchartButtonEl.classList.remove('colab-df-spinner');\n",
              "      quickchartButtonEl.classList.add('colab-df-quickchart-complete');\n",
              "    }\n",
              "    (() => {\n",
              "      let quickchartButtonEl =\n",
              "        document.querySelector('#df-f2ec470c-da0b-40fe-a121-4f1f49b40ae3 button');\n",
              "      quickchartButtonEl.style.display =\n",
              "        google.colab.kernel.accessAllowed ? 'block' : 'none';\n",
              "    })();\n",
              "  </script>\n",
              "</div>\n",
              "    </div>\n",
              "  </div>\n"
            ]
          },
          "metadata": {},
          "execution_count": 3
        }
      ],
      "source": [
        "filipino_news_df.head()"
      ]
    },
    {
      "cell_type": "markdown",
      "id": "bfde2cc1-dd7d-430a-9b58-4a763f285005",
      "metadata": {
        "id": "bfde2cc1-dd7d-430a-9b58-4a763f285005"
      },
      "source": [
        "#### Vocabulary Size"
      ]
    },
    {
      "cell_type": "code",
      "execution_count": 4,
      "id": "90cb3365-474b-48b8-bb3e-e9f48dcd8560",
      "metadata": {
        "colab": {
          "base_uri": "https://localhost:8080/"
        },
        "id": "90cb3365-474b-48b8-bb3e-e9f48dcd8560",
        "outputId": "cf9424df-aba3-4dd3-aeff-f71b8b2360a0",
        "tags": []
      },
      "outputs": [
        {
          "output_type": "stream",
          "name": "stdout",
          "text": [
            "Vocabulary size: 39063\n"
          ]
        }
      ],
      "source": [
        "vectorizer = CountVectorizer()\n",
        "\n",
        "# Fit and transform the 'text' column to get the document-term matrix\n",
        "temp = vectorizer.fit_transform(filipino_news_df['article'])\n",
        "\n",
        "# Get the vocabulary from the vectorizer\n",
        "filipino_vocabulary = vectorizer.get_feature_names_out()\n",
        "\n",
        "# Get the size of the vocabulary\n",
        "filipino_vocabulary_size = len(filipino_vocabulary)\n",
        "print(\"Vocabulary size:\",filipino_vocabulary_size)"
      ]
    },
    {
      "cell_type": "markdown",
      "id": "13858f81-8429-406c-a6f2-b8f5b0b95e76",
      "metadata": {
        "id": "13858f81-8429-406c-a6f2-b8f5b0b95e76"
      },
      "source": [
        "#### Splitting data into train and test data"
      ]
    },
    {
      "cell_type": "code",
      "execution_count": 5,
      "id": "9e520b2c-98cc-4963-bde9-68fc025e9697",
      "metadata": {
        "id": "9e520b2c-98cc-4963-bde9-68fc025e9697",
        "tags": []
      },
      "outputs": [],
      "source": [
        "X_train, X_test, y_train, y_test = train_test_split(filipino_news_df['article'], filipino_news_df['label'], test_size=0.2, random_state=42)"
      ]
    },
    {
      "cell_type": "markdown",
      "id": "a17cd3f4-c8bc-430d-befb-69822f794771",
      "metadata": {
        "id": "a17cd3f4-c8bc-430d-befb-69822f794771"
      },
      "source": [
        "#### Count Vectorizer"
      ]
    },
    {
      "cell_type": "markdown",
      "id": "KEgvVZ3V8Xm1",
      "metadata": {
        "id": "KEgvVZ3V8Xm1"
      },
      "source": [
        "#### Setting the range of parameters for tuning"
      ]
    },
    {
      "cell_type": "code",
      "execution_count": 6,
      "id": "uyBKa5ZX8c9z",
      "metadata": {
        "id": "uyBKa5ZX8c9z",
        "tags": []
      },
      "outputs": [],
      "source": [
        "param_dist_count = {\n",
        "    'vectorizer__ngram_range': [(1, 1), (1, 2), (2, 2)],\n",
        "    'classifier__n_estimators': range(10,201,10),\n",
        "    'classifier__max_depth': np.arange(3,11,1),\n",
        "    'classifier__learning_rate': np.arange(0.1,2.0,0.05),\n",
        "}"
      ]
    },
    {
      "cell_type": "markdown",
      "id": "df0d089a-06ce-46e4-8fab-934f7bb2c8c8",
      "metadata": {
        "id": "df0d089a-06ce-46e4-8fab-934f7bb2c8c8"
      },
      "source": [
        "##### Using the Whole Vocabulary"
      ]
    },
    {
      "cell_type": "code",
      "execution_count": 7,
      "id": "0520df05-f918-4612-972a-32a745bf539d",
      "metadata": {
        "colab": {
          "base_uri": "https://localhost:8080/"
        },
        "id": "0520df05-f918-4612-972a-32a745bf539d",
        "outputId": "99529d76-1260-45d9-e61f-b779ba1e83b2",
        "tags": []
      },
      "outputs": [
        {
          "output_type": "stream",
          "name": "stdout",
          "text": [
            "Fitting 3 folds for each of 15 candidates, totalling 45 fits\n",
            "Best Parameters:  {'vectorizer__ngram_range': (1, 1), 'classifier__n_estimators': 120, 'classifier__max_depth': 3, 'classifier__learning_rate': 0.3500000000000001}\n",
            "Best F1 Score: 0.9450\n",
            "Test F1: 0.9496\n",
            "Training time for whole data set: 260.5606\n"
          ]
        }
      ],
      "source": [
        "pipeline = Pipeline([\n",
        "    ('vectorizer', CountVectorizer()),\n",
        "    ('classifier', XGBClassifier())\n",
        "])\n",
        "random_search = RandomizedSearchCV(\n",
        "    pipeline,\n",
        "    param_distributions=param_dist_count,\n",
        "    n_iter=15,\n",
        "    scoring='f1',\n",
        "    n_jobs=-1,\n",
        "    cv=3,\n",
        "    verbose=1,\n",
        "    random_state=42\n",
        ")\n",
        "\n",
        "# Record the training time\n",
        "start_time = time.time()\n",
        "random_search.fit(X_train, y_train)\n",
        "end_time = time.time()\n",
        "training_time_count_whole = end_time - start_time\n",
        "\n",
        "# Print the best parameters and best score\n",
        "print(\"Best Parameters: \", random_search.best_params_)\n",
        "print(\"Best F1 Score: {:.4f}\".format(random_search.best_score_))\n",
        "\n",
        "# # Evaluate the model on the test set\n",
        "test_f1_score = random_search.score(X_test, y_test)\n",
        "print(\"Test F1: {:.4f}\".format(test_f1_score))\n",
        "print(\"Training time for whole data set: {:.4f}\".format(training_time_count_whole))\n"
      ]
    },
    {
      "cell_type": "code",
      "execution_count": 8,
      "id": "3bc1337e-beb6-4a3f-bd2a-0664450ad050",
      "metadata": {
        "colab": {
          "base_uri": "https://localhost:8080/"
        },
        "id": "3bc1337e-beb6-4a3f-bd2a-0664450ad050",
        "outputId": "505768bc-1d9d-4f75-f602-b80eff3eb38b",
        "tags": []
      },
      "outputs": [
        {
          "output_type": "stream",
          "name": "stdout",
          "text": [
            "Fitting 3 folds for each of 15 candidates, totalling 45 fits\n",
            "Fitting 3 folds for each of 15 candidates, totalling 45 fits\n",
            "Fitting 3 folds for each of 15 candidates, totalling 45 fits\n",
            "Fitting 3 folds for each of 15 candidates, totalling 45 fits\n",
            "Fitting 3 folds for each of 15 candidates, totalling 45 fits\n",
            "Fitting 3 folds for each of 15 candidates, totalling 45 fits\n",
            "Fitting 3 folds for each of 15 candidates, totalling 45 fits\n",
            "\n",
            "Overall Best Test F1 Score: 0.9495934959349593\n",
            "Corresponding Best max_features: 5000\n",
            "Corresponding Best Parameters: {'vectorizer__ngram_range': (1, 1), 'classifier__n_estimators': 120, 'classifier__max_depth': 3, 'classifier__learning_rate': 0.3500000000000001}\n"
          ]
        }
      ],
      "source": [
        "training_times_count = []\n",
        "\n",
        "best_count_f1 = 0.0\n",
        "best_count_max_features = None\n",
        "best_count_parameters = {}\n",
        "\n",
        "# Initialize the RandomizedSearchCV\n",
        "for max_features in range(500,10001,1500):\n",
        "    # Create a pipeline with CountVectorizer and XGBoost\n",
        "    pipeline = Pipeline([\n",
        "        ('vectorizer', CountVectorizer(max_features=max_features)),\n",
        "        ('classifier', XGBClassifier())\n",
        "    ])\n",
        "    random_search = RandomizedSearchCV(\n",
        "        pipeline,\n",
        "        param_distributions=param_dist_count,\n",
        "        n_iter=15,\n",
        "        scoring='f1',\n",
        "        n_jobs=8,\n",
        "        cv=3,\n",
        "        verbose=1,\n",
        "        random_state=42\n",
        "    )\n",
        "\n",
        "    # Record the training time\n",
        "    start_time = time.time()\n",
        "    # Fit the model\n",
        "    random_search.fit(X_train, y_train)\n",
        "\n",
        "    end_time = time.time()\n",
        "\n",
        "    # Calculate and store the training time\n",
        "    training_time = end_time - start_time\n",
        "    training_times_count.append(training_time)\n",
        "\n",
        "    # # Print the best parameters and best score\n",
        "    # print(\"Best Parameters: \", random_search.best_params_)\n",
        "    # print(\"Best F1 Score: {:.4f}\".format(random_search.best_score_))\n",
        "\n",
        "    # # Evaluate the model on the test set\n",
        "    test_f1_score = random_search.score(X_test, y_test)\n",
        "    # print(\"Test F1: {:.4f}\".format(test_score_f1))\n",
        "\n",
        "     # Update the best test accuracy if the current iteration performs better\n",
        "    if test_f1_score > best_count_f1:\n",
        "        best_count_f1 = test_f1_score\n",
        "        best_count_max_features = max_features\n",
        "        best_count_parameters = random_search.best_params_\n",
        "\n",
        "# Print the overall best test accuracy and corresponding parameters\n",
        "print(\"\\nOverall Best Test F1 Score:\", best_count_f1)\n",
        "print(\"Corresponding Best max_features:\", best_count_max_features)\n",
        "print(\"Corresponding Best Parameters:\", best_count_parameters)"
      ]
    },
    {
      "cell_type": "code",
      "execution_count": 9,
      "id": "64fd0842-2fb3-424e-a5d7-5aaa699625d9",
      "metadata": {
        "tags": [],
        "colab": {
          "base_uri": "https://localhost:8080/"
        },
        "id": "64fd0842-2fb3-424e-a5d7-5aaa699625d9",
        "outputId": "5dd16b88-2b0e-49ab-a69f-61d422be8e05"
      },
      "outputs": [
        {
          "output_type": "execute_result",
          "data": {
            "text/plain": [
              "[35.092047929763794,\n",
              " 36.696723222732544,\n",
              " 39.48204684257507,\n",
              " 42.149338722229004,\n",
              " 46.28337073326111,\n",
              " 48.91274929046631,\n",
              " 51.74592924118042]"
            ]
          },
          "metadata": {},
          "execution_count": 9
        }
      ],
      "source": [
        "training_times_count"
      ]
    },
    {
      "cell_type": "markdown",
      "id": "DpleZ7m589Cq",
      "metadata": {
        "id": "DpleZ7m589Cq"
      },
      "source": [
        "#### Training Time vs Number of Features in Vocabulary"
      ]
    },
    {
      "cell_type": "code",
      "execution_count": 31,
      "id": "32iTSiHG88Ir",
      "metadata": {
        "colab": {
          "base_uri": "https://localhost:8080/",
          "height": 472
        },
        "id": "32iTSiHG88Ir",
        "outputId": "d4b16fc6-9c71-4518-eeec-14fd57616e04",
        "tags": []
      },
      "outputs": [
        {
          "output_type": "display_data",
          "data": {
            "text/plain": [
              "<Figure size 640x480 with 1 Axes>"
            ],
            "image/png": "[encoded data removed]"
          },
          "metadata": {}
        }
      ],
      "source": [
        "# Plot or analyze the training times against the dataset size\n",
        "plt.plot(range(500,10001,1500), training_times_count, marker='o')\n",
        "plt.title('Training Time vs Number of Features for XGBoost with Count Vectorizer')\n",
        "plt.xlabel('Dataset Size')\n",
        "plt.ylabel('Training Time (seconds)')\n",
        "plt.show()"
      ]
    },
    {
      "cell_type": "markdown",
      "id": "3d9c88b1-830e-4208-941c-d6343a92693b",
      "metadata": {
        "id": "3d9c88b1-830e-4208-941c-d6343a92693b"
      },
      "source": [
        "#### Tf-IDf Vectorizer"
      ]
    },
    {
      "cell_type": "markdown",
      "id": "3BgUfWZe9RyF",
      "metadata": {
        "id": "3BgUfWZe9RyF"
      },
      "source": [
        "#### Defining the parameter grid for Tf-Idf"
      ]
    },
    {
      "cell_type": "code",
      "execution_count": 11,
      "id": "3Mkqbpaj9Qzg",
      "metadata": {
        "id": "3Mkqbpaj9Qzg",
        "tags": []
      },
      "outputs": [],
      "source": [
        "# Define the parameter grid for RandomizedSearchCV\n",
        "param_dist_tfidf = {\n",
        "    'vectorizer__ngram_range': [(1, 1), (1, 2), (2, 2)],\n",
        "    'classifier__n_estimators': range(10,201,10),\n",
        "    'classifier__max_depth': np.arange(3,11,1),\n",
        "    'classifier__learning_rate': np.arange(0.1,2.0,0.05),\n",
        "}\n"
      ]
    },
    {
      "cell_type": "markdown",
      "id": "T2dzgaal9sGy",
      "metadata": {
        "id": "T2dzgaal9sGy"
      },
      "source": [
        "#### Using Tf-Idf for the whole dataset"
      ]
    },
    {
      "cell_type": "code",
      "execution_count": 12,
      "id": "Q-JD9dtCT4RF",
      "metadata": {
        "colab": {
          "base_uri": "https://localhost:8080/"
        },
        "id": "Q-JD9dtCT4RF",
        "outputId": "22906fba-074f-4ad4-dddd-f85a0f2fbb89",
        "tags": []
      },
      "outputs": [
        {
          "output_type": "stream",
          "name": "stdout",
          "text": [
            "Fitting 3 folds for each of 15 candidates, totalling 45 fits\n",
            "Best Parameters:  {'vectorizer__ngram_range': (1, 1), 'classifier__n_estimators': 120, 'classifier__max_depth': 3, 'classifier__learning_rate': 0.3500000000000001}\n",
            "Best F1 Score: 0.9413\n",
            "Test F1: 0.9254\n",
            "Training time for whole data set: 318.6406\n"
          ]
        }
      ],
      "source": [
        "pipeline = Pipeline([\n",
        "    ('vectorizer', TfidfVectorizer()),\n",
        "    ('classifier', XGBClassifier())\n",
        "])\n",
        "random_search = RandomizedSearchCV(\n",
        "    pipeline,\n",
        "    param_distributions=param_dist_tfidf,\n",
        "    n_iter=15,\n",
        "    scoring='f1',\n",
        "    n_jobs=8,\n",
        "    cv=3,\n",
        "    verbose=1,\n",
        "    random_state=42\n",
        ")\n",
        "\n",
        "# Record the training time\n",
        "start_time = time.time()\n",
        "# Fit the model\n",
        "random_search.fit(X_train, y_train)\n",
        "\n",
        "end_time = time.time()\n",
        "\n",
        "# Calculate and store the training time\n",
        "training_time_tfidf_whole = end_time - start_time\n",
        "\n",
        "# # Print the best parameters and best score\n",
        "print(\"Best Parameters: \", random_search.best_params_)\n",
        "print(\"Best F1 Score: {:.4f}\".format(random_search.best_score_))\n",
        "\n",
        "# # Evaluate the model on the test set\n",
        "test_f1_score = random_search.score(X_test, y_test)\n",
        "print(\"Test F1: {:.4f}\".format(test_f1_score))\n",
        "print(\"Training time for whole data set: {:.4f}\".format(training_time_tfidf_whole))"
      ]
    },
    {
      "cell_type": "markdown",
      "id": "hoBAbjbjT1C_",
      "metadata": {
        "id": "hoBAbjbjT1C_"
      },
      "source": [
        "#### Parameter Tuning"
      ]
    },
    {
      "cell_type": "code",
      "execution_count": 13,
      "id": "fb4b7662-78ef-476d-9605-3b93214f15e8",
      "metadata": {
        "colab": {
          "base_uri": "https://localhost:8080/"
        },
        "id": "fb4b7662-78ef-476d-9605-3b93214f15e8",
        "outputId": "cd9f8ed4-34f8-420c-b7a7-2fec9fe7a8e3",
        "tags": []
      },
      "outputs": [
        {
          "output_type": "stream",
          "name": "stdout",
          "text": [
            "Fitting 3 folds for each of 15 candidates, totalling 45 fits\n",
            "Fitting 3 folds for each of 15 candidates, totalling 45 fits\n",
            "Fitting 3 folds for each of 15 candidates, totalling 45 fits\n",
            "Fitting 3 folds for each of 15 candidates, totalling 45 fits\n",
            "Fitting 3 folds for each of 15 candidates, totalling 45 fits\n",
            "Fitting 3 folds for each of 15 candidates, totalling 45 fits\n",
            "Fitting 3 folds for each of 15 candidates, totalling 45 fits\n",
            "\n",
            "Overall Best Test F1 Score: 0.9392446633825944\n",
            "Corresponding Best max_features: 500\n",
            "Corresponding Best Parameters: {'vectorizer__ngram_range': (1, 1), 'classifier__n_estimators': 120, 'classifier__max_depth': 3, 'classifier__learning_rate': 0.3500000000000001}\n"
          ]
        }
      ],
      "source": [
        "training_times_tfidf = []\n",
        "\n",
        "best_tfidf_f1 = 0.0\n",
        "best_tfidf_max_features = None\n",
        "best_tfidf_parameters = {}\n",
        "\n",
        "# Initialize the RandomizedSearchCV\n",
        "for max_features in range(500,10001,1500):\n",
        "    # Create a pipeline with tfidfVectorizer and XGBoost\n",
        "    pipeline = Pipeline([\n",
        "        ('vectorizer', TfidfVectorizer(max_features=max_features)),\n",
        "        ('classifier', XGBClassifier())\n",
        "    ])\n",
        "    random_search = RandomizedSearchCV(\n",
        "        pipeline,\n",
        "        param_distributions=param_dist_tfidf,\n",
        "        n_iter=15,\n",
        "        scoring='f1',\n",
        "        n_jobs=8,\n",
        "        cv=3,\n",
        "        verbose=1,\n",
        "        random_state=42\n",
        "    )\n",
        "\n",
        "    # Record the training time\n",
        "    start_time = time.time()\n",
        "    # Fit the model\n",
        "    random_search.fit(X_train, y_train)\n",
        "\n",
        "    end_time = time.time()\n",
        "\n",
        "    # Calculate and store the training time\n",
        "    training_time = end_time - start_time\n",
        "    training_times_tfidf.append(training_time)\n",
        "\n",
        "    # # Print the best parameters and best score\n",
        "    # print(\"Best Parameters: \", random_search.best_params_)\n",
        "    # print(\"Best F1 Score: {:.4f}\".format(random_search.best_score_))\n",
        "\n",
        "    # # Evaluate the model on the test set\n",
        "    test_f1_score = random_search.score(X_test, y_test)\n",
        "    # print(\"Test F1: {:.4f}\".format(test_f1_score))\n",
        "\n",
        "     # Update the best test accuracy if the current iteration performs better\n",
        "    if test_f1_score > best_tfidf_f1:\n",
        "        best_tfidf_f1 = test_f1_score\n",
        "        best_tfidf_max_features = max_features\n",
        "        best_tfidf_parameters = random_search.best_params_\n",
        "\n",
        "# Print the overall best test accuracy and corresponding parameters\n",
        "print(\"\\nOverall Best Test F1 Score:\", best_tfidf_f1)\n",
        "print(\"Corresponding Best max_features:\", best_tfidf_max_features)\n",
        "print(\"Corresponding Best Parameters:\", best_tfidf_parameters)"
      ]
    },
    {
      "cell_type": "code",
      "execution_count": 14,
      "id": "f094ea28-bad0-4ddf-9024-1b7e3b54cf1f",
      "metadata": {
        "colab": {
          "base_uri": "https://localhost:8080/"
        },
        "id": "f094ea28-bad0-4ddf-9024-1b7e3b54cf1f",
        "outputId": "59dd80ed-695e-4afe-ca90-8238961c49ba"
      },
      "outputs": [
        {
          "output_type": "execute_result",
          "data": {
            "text/plain": [
              "[59.07223963737488,\n",
              " 75.07714819908142,\n",
              " 82.66993379592896,\n",
              " 89.66126418113708,\n",
              " 96.04552674293518,\n",
              " 99.15132427215576,\n",
              " 103.63643836975098]"
            ]
          },
          "metadata": {},
          "execution_count": 14
        }
      ],
      "source": [
        "training_times_tfidf"
      ]
    },
    {
      "cell_type": "code",
      "execution_count": 30,
      "id": "tJDqY5U295UE",
      "metadata": {
        "colab": {
          "base_uri": "https://localhost:8080/",
          "height": 472
        },
        "id": "tJDqY5U295UE",
        "outputId": "9c8ad356-0da7-485d-e42e-5d8c2d31b561",
        "tags": []
      },
      "outputs": [
        {
          "output_type": "display_data",
          "data": {
            "text/plain": [
              "<Figure size 640x480 with 1 Axes>"
            ],
            "image/png": "[encoded data removed]"
          },
          "metadata": {}
        }
      ],
      "source": [
        "# Plot or analyze the training times against the dataset size\n",
        "plt.plot(range(500,10001,1500), training_times_tfidf, marker='o')\n",
        "plt.title('Training Time vs Number of Features for XGBoost with Tf-Idf Vectorizer')\n",
        "plt.xlabel('Dataset Size')\n",
        "plt.ylabel('Training Time (seconds)')\n",
        "plt.show()"
      ]
    },
    {
      "cell_type": "markdown",
      "id": "3b90a777-e4cc-4703-b022-6d8221a462b2",
      "metadata": {
        "id": "3b90a777-e4cc-4703-b022-6d8221a462b2"
      },
      "source": [
        "## Second Dataset"
      ]
    },
    {
      "cell_type": "code",
      "execution_count": 16,
      "id": "244fcfbf-1792-4b9f-9f3f-73e7d7746bc8",
      "metadata": {
        "id": "244fcfbf-1792-4b9f-9f3f-73e7d7746bc8",
        "tags": []
      },
      "outputs": [],
      "source": [
        "english_news_df = pd.read_csv('./Philippine_Fake_News_Corpus.csv')"
      ]
    },
    {
      "cell_type": "code",
      "execution_count": 17,
      "id": "4c0a5cbb-fecc-4ac6-9185-971a01e66a82",
      "metadata": {
        "colab": {
          "base_uri": "https://localhost:8080/",
          "height": 276
        },
        "id": "4c0a5cbb-fecc-4ac6-9185-971a01e66a82",
        "outputId": "aea1e317-5e81-4d58-8e3f-52faf70cb79d",
        "tags": []
      },
      "outputs": [
        {
          "output_type": "execute_result",
          "data": {
            "text/plain": [
              "                                            Headline  \\\n",
              "0  PH ranks 2nd in Asia-Pacific in deaths due to ...   \n",
              "1  Aguirre, PCSO chief deny plotting to kill ‘Ato...   \n",
              "2     Duterte says charges vs ex-President will fail   \n",
              "3           Group warns BFAR on law enforcement fund   \n",
              "4          Solon asks Duterte for jet ski to Panatag   \n",
              "\n",
              "                                             Content  \\\n",
              "0  Pollution caused by traditional cooking fuel i...   \n",
              "1  Justice Secretary Vitaliano Aguirre 2nd and Ph...   \n",
              "2  President Rodrigo Duterte on Monday night desc...   \n",
              "3  THE militant fisher folk group Pambansang Laka...   \n",
              "4  Magdalo Rep. Gary Alejano is willing to lead t...   \n",
              "\n",
              "                         Authors                       Date  \\\n",
              "0  ['Philippine Daily Inquirer']                        NaN   \n",
              "1               ['Jomar Canlas']  2017-04-28 20:12:54+00:00   \n",
              "2      ['Christine O. Avendaño']                        NaN   \n",
              "3               ['Neil Alcober']  2017-08-12 19:54:48+00:00   \n",
              "4                     ['Dj Yap']                        NaN   \n",
              "\n",
              "                                                 URL         Brand     Label  \n",
              "0  https://newsinfo.inquirer.net/987262/ph-ranks-...      Inquirer  Credible  \n",
              "1  https://www.manilatimes.net/aguirre-pcso-chief...  Manila Times  Credible  \n",
              "2  https://newsinfo.inquirer.net/914727/duterte-s...      Inquirer  Credible  \n",
              "3  https://www.manilatimes.net/group-warns-bfar-l...  Manila Times  Credible  \n",
              "4  https://newsinfo.inquirer.net/882744/solon-ask...      Inquirer  Credible  "
            ],
            "text/html": [
              "\n",
              "  <div id=\"df-e6d72206-bd5e-4893-bd3e-c82239874ff6\" class=\"colab-df-container\">\n",
              "    <div>\n",
              "<style scoped>\n",
              "    .dataframe tbody tr th:only-of-type {\n",
              "        vertical-align: middle;\n",
              "    }\n",
              "\n",
              "    .dataframe tbody tr th {\n",
              "        vertical-align: top;\n",
              "    }\n",
              "\n",
              "    .dataframe thead th {\n",
              "        text-align: right;\n",
              "    }\n",
              "</style>\n",
              "<table border=\"1\" class=\"dataframe\">\n",
              "  <thead>\n",
              "    <tr style=\"text-align: right;\">\n",
              "      <th></th>\n",
              "      <th>Headline</th>\n",
              "      <th>Content</th>\n",
              "      <th>Authors</th>\n",
              "      <th>Date</th>\n",
              "      <th>URL</th>\n",
              "      <th>Brand</th>\n",
              "      <th>Label</th>\n",
              "    </tr>\n",
              "  </thead>\n",
              "  <tbody>\n",
              "    <tr>\n",
              "      <th>0</th>\n",
              "      <td>PH ranks 2nd in Asia-Pacific in deaths due to ...</td>\n",
              "      <td>Pollution caused by traditional cooking fuel i...</td>\n",
              "      <td>['Philippine Daily Inquirer']</td>\n",
              "      <td>NaN</td>\n",
              "      <td>https://newsinfo.inquirer.net/987262/ph-ranks-...</td>\n",
              "      <td>Inquirer</td>\n",
              "      <td>Credible</td>\n",
              "    </tr>\n",
              "    <tr>\n",
              "      <th>1</th>\n",
              "      <td>Aguirre, PCSO chief deny plotting to kill ‘Ato...</td>\n",
              "      <td>Justice Secretary Vitaliano Aguirre 2nd and Ph...</td>\n",
              "      <td>['Jomar Canlas']</td>\n",
              "      <td>2017-04-28 20:12:54+00:00</td>\n",
              "      <td>https://www.manilatimes.net/aguirre-pcso-chief...</td>\n",
              "      <td>Manila Times</td>\n",
              "      <td>Credible</td>\n",
              "    </tr>\n",
              "    <tr>\n",
              "      <th>2</th>\n",
              "      <td>Duterte says charges vs ex-President will fail</td>\n",
              "      <td>President Rodrigo Duterte on Monday night desc...</td>\n",
              "      <td>['Christine O. Avendaño']</td>\n",
              "      <td>NaN</td>\n",
              "      <td>https://newsinfo.inquirer.net/914727/duterte-s...</td>\n",
              "      <td>Inquirer</td>\n",
              "      <td>Credible</td>\n",
              "    </tr>\n",
              "    <tr>\n",
              "      <th>3</th>\n",
              "      <td>Group warns BFAR on law enforcement fund</td>\n",
              "      <td>THE militant fisher folk group Pambansang Laka...</td>\n",
              "      <td>['Neil Alcober']</td>\n",
              "      <td>2017-08-12 19:54:48+00:00</td>\n",
              "      <td>https://www.manilatimes.net/group-warns-bfar-l...</td>\n",
              "      <td>Manila Times</td>\n",
              "      <td>Credible</td>\n",
              "    </tr>\n",
              "    <tr>\n",
              "      <th>4</th>\n",
              "      <td>Solon asks Duterte for jet ski to Panatag</td>\n",
              "      <td>Magdalo Rep. Gary Alejano is willing to lead t...</td>\n",
              "      <td>['Dj Yap']</td>\n",
              "      <td>NaN</td>\n",
              "      <td>https://newsinfo.inquirer.net/882744/solon-ask...</td>\n",
              "      <td>Inquirer</td>\n",
              "      <td>Credible</td>\n",
              "    </tr>\n",
              "  </tbody>\n",
              "</table>\n",
              "</div>\n",
              "    <div class=\"colab-df-buttons\">\n",
              "\n",
              "  <div class=\"colab-df-container\">\n",
              "    <button class=\"colab-df-convert\" onclick=\"convertToInteractive('df-e6d72206-bd5e-4893-bd3e-c82239874ff6')\"\n",
              "            title=\"Convert this dataframe to an interactive table.\"\n",
              "            style=\"display:none;\">\n",
              "\n",
              "  <svg xmlns=\"http://www.w3.org/2000/svg\" height=\"24px\" viewBox=\"0 -960 960 960\">\n",
              "    <path d=\"M120-120v-720h720v720H120Zm60-500h600v-160H180v160Zm220 220h160v-160H400v160Zm0 220h160v-160H400v160ZM180-400h160v-160H180v160Zm440 0h160v-160H620v160ZM180-180h160v-160H180v160Zm440 0h160v-160H620v160Z\"/>\n",
              "  </svg>\n",
              "    </button>\n",
              "\n",
              "  <style>\n",
              "    .colab-df-container {\n",
              "      display:flex;\n",
              "      gap: 12px;\n",
              "    }\n",
              "\n",
              "    .colab-df-convert {\n",
              "      background-color: #E8F0FE;\n",
              "      border: none;\n",
              "      border-radius: 50%;\n",
              "      cursor: pointer;\n",
              "      display: none;\n",
              "      fill: #1967D2;\n",
              "      height: 32px;\n",
              "      padding: 0 0 0 0;\n",
              "      width: 32px;\n",
              "    }\n",
              "\n",
              "    .colab-df-convert:hover {\n",
              "      background-color: #E2EBFA;\n",
              "      box-shadow: 0px 1px 2px rgba(60, 64, 67, 0.3), 0px 1px 3px 1px rgba(60, 64, 67, 0.15);\n",
              "      fill: #174EA6;\n",
              "    }\n",
              "\n",
              "    .colab-df-buttons div {\n",
              "      margin-bottom: 4px;\n",
              "    }\n",
              "\n",
              "    [theme=dark] .colab-df-convert {\n",
              "      background-color: #3B4455;\n",
              "      fill: #D2E3FC;\n",
              "    }\n",
              "\n",
              "    [theme=dark] .colab-df-convert:hover {\n",
              "      background-color: #434B5C;\n",
              "      box-shadow: 0px 1px 3px 1px rgba(0, 0, 0, 0.15);\n",
              "      filter: drop-shadow(0px 1px 2px rgba(0, 0, 0, 0.3));\n",
              "      fill: #FFFFFF;\n",
              "    }\n",
              "  </style>\n",
              "\n",
              "    <script>\n",
              "      const buttonEl =\n",
              "        document.querySelector('#df-e6d72206-bd5e-4893-bd3e-c82239874ff6 button.colab-df-convert');\n",
              "      buttonEl.style.display =\n",
              "        google.colab.kernel.accessAllowed ? 'block' : 'none';\n",
              "\n",
              "      async function convertToInteractive(key) {\n",
              "        const element = document.querySelector('#df-e6d72206-bd5e-4893-bd3e-c82239874ff6');\n",
              "        const dataTable =\n",
              "          await google.colab.kernel.invokeFunction('convertToInteractive',\n",
              "                                                    [key], {});\n",
              "        if (!dataTable) return;\n",
              "\n",
              "        const docLinkHtml = 'Like what you see? Visit the ' +\n",
              "          '<a target=\"_blank\" href=https://colab.research.google.com/notebooks/data_table.ipynb>data table notebook</a>'\n",
              "          + ' to learn more about interactive tables.';\n",
              "        element.innerHTML = '';\n",
              "        dataTable['output_type'] = 'display_data';\n",
              "        await google.colab.output.renderOutput(dataTable, element);\n",
              "        const docLink = document.createElement('div');\n",
              "        docLink.innerHTML = docLinkHtml;\n",
              "        element.appendChild(docLink);\n",
              "      }\n",
              "    </script>\n",
              "  </div>\n",
              "\n",
              "\n",
              "<div id=\"df-ddee15d9-9cf9-497d-a80b-73c5d4a4ef01\">\n",
              "  <button class=\"colab-df-quickchart\" onclick=\"quickchart('df-ddee15d9-9cf9-497d-a80b-73c5d4a4ef01')\"\n",
              "            title=\"Suggest charts\"\n",
              "            style=\"display:none;\">\n",
              "\n",
              "<svg xmlns=\"http://www.w3.org/2000/svg\" height=\"24px\"viewBox=\"0 0 24 24\"\n",
              "     width=\"24px\">\n",
              "    <g>\n",
              "        <path d=\"M19 3H5c-1.1 0-2 .9-2 2v14c0 1.1.9 2 2 2h14c1.1 0 2-.9 2-2V5c0-1.1-.9-2-2-2zM9 17H7v-7h2v7zm4 0h-2V7h2v10zm4 0h-2v-4h2v4z\"/>\n",
              "    </g>\n",
              "</svg>\n",
              "  </button>\n",
              "\n",
              "<style>\n",
              "  .colab-df-quickchart {\n",
              "      --bg-color: #E8F0FE;\n",
              "      --fill-color: #1967D2;\n",
              "      --hover-bg-color: #E2EBFA;\n",
              "      --hover-fill-color: #174EA6;\n",
              "      --disabled-fill-color: #AAA;\n",
              "      --disabled-bg-color: #DDD;\n",
              "  }\n",
              "\n",
              "  [theme=dark] .colab-df-quickchart {\n",
              "      --bg-color: #3B4455;\n",
              "      --fill-color: #D2E3FC;\n",
              "      --hover-bg-color: #434B5C;\n",
              "      --hover-fill-color: #FFFFFF;\n",
              "      --disabled-bg-color: #3B4455;\n",
              "      --disabled-fill-color: #666;\n",
              "  }\n",
              "\n",
              "  .colab-df-quickchart {\n",
              "    background-color: var(--bg-color);\n",
              "    border: none;\n",
              "    border-radius: 50%;\n",
              "    cursor: pointer;\n",
              "    display: none;\n",
              "    fill: var(--fill-color);\n",
              "    height: 32px;\n",
              "    padding: 0;\n",
              "    width: 32px;\n",
              "  }\n",
              "\n",
              "  .colab-df-quickchart:hover {\n",
              "    background-color: var(--hover-bg-color);\n",
              "    box-shadow: 0 1px 2px rgba(60, 64, 67, 0.3), 0 1px 3px 1px rgba(60, 64, 67, 0.15);\n",
              "    fill: var(--button-hover-fill-color);\n",
              "  }\n",
              "\n",
              "  .colab-df-quickchart-complete:disabled,\n",
              "  .colab-df-quickchart-complete:disabled:hover {\n",
              "    background-color: var(--disabled-bg-color);\n",
              "    fill: var(--disabled-fill-color);\n",
              "    box-shadow: none;\n",
              "  }\n",
              "\n",
              "  .colab-df-spinner {\n",
              "    border: 2px solid var(--fill-color);\n",
              "    border-color: transparent;\n",
              "    border-bottom-color: var(--fill-color);\n",
              "    animation:\n",
              "      spin 1s steps(1) infinite;\n",
              "  }\n",
              "\n",
              "  @keyframes spin {\n",
              "    0% {\n",
              "      border-color: transparent;\n",
              "      border-bottom-color: var(--fill-color);\n",
              "      border-left-color: var(--fill-color);\n",
              "    }\n",
              "    20% {\n",
              "      border-color: transparent;\n",
              "      border-left-color: var(--fill-color);\n",
              "      border-top-color: var(--fill-color);\n",
              "    }\n",
              "    30% {\n",
              "      border-color: transparent;\n",
              "      border-left-color: var(--fill-color);\n",
              "      border-top-color: var(--fill-color);\n",
              "      border-right-color: var(--fill-color);\n",
              "    }\n",
              "    40% {\n",
              "      border-color: transparent;\n",
              "      border-right-color: var(--fill-color);\n",
              "      border-top-color: var(--fill-color);\n",
              "    }\n",
              "    60% {\n",
              "      border-color: transparent;\n",
              "      border-right-color: var(--fill-color);\n",
              "    }\n",
              "    80% {\n",
              "      border-color: transparent;\n",
              "      border-right-color: var(--fill-color);\n",
              "      border-bottom-color: var(--fill-color);\n",
              "    }\n",
              "    90% {\n",
              "      border-color: transparent;\n",
              "      border-bottom-color: var(--fill-color);\n",
              "    }\n",
              "  }\n",
              "</style>\n",
              "\n",
              "  <script>\n",
              "    async function quickchart(key) {\n",
              "      const quickchartButtonEl =\n",
              "        document.querySelector('#' + key + ' button');\n",
              "      quickchartButtonEl.disabled = true;  // To prevent multiple clicks.\n",
              "      quickchartButtonEl.classList.add('colab-df-spinner');\n",
              "      try {\n",
              "        const charts = await google.colab.kernel.invokeFunction(\n",
              "            'suggestCharts', [key], {});\n",
              "      } catch (error) {\n",
              "        console.error('Error during call to suggestCharts:', error);\n",
              "      }\n",
              "      quickchartButtonEl.classList.remove('colab-df-spinner');\n",
              "      quickchartButtonEl.classList.add('colab-df-quickchart-complete');\n",
              "    }\n",
              "    (() => {\n",
              "      let quickchartButtonEl =\n",
              "        document.querySelector('#df-ddee15d9-9cf9-497d-a80b-73c5d4a4ef01 button');\n",
              "      quickchartButtonEl.style.display =\n",
              "        google.colab.kernel.accessAllowed ? 'block' : 'none';\n",
              "    })();\n",
              "  </script>\n",
              "</div>\n",
              "    </div>\n",
              "  </div>\n"
            ]
          },
          "metadata": {},
          "execution_count": 17
        }
      ],
      "source": [
        "english_news_df.head()"
      ]
    },
    {
      "cell_type": "code",
      "execution_count": 18,
      "id": "146ad811-cb71-4a5f-9029-9732002fa9eb",
      "metadata": {
        "colab": {
          "base_uri": "https://localhost:8080/"
        },
        "id": "146ad811-cb71-4a5f-9029-9732002fa9eb",
        "outputId": "82ca68fd-f675-4182-d082-79545170e2d6",
        "tags": []
      },
      "outputs": [
        {
          "output_type": "stream",
          "name": "stdout",
          "text": [
            "Label Mapping: {'Credible': 0, 'Not Credible': 1}\n"
          ]
        }
      ],
      "source": [
        "label_encoder = LabelEncoder()\n",
        "\n",
        "# Encode the 'Label' column\n",
        "english_news_df['Label'] = label_encoder.fit_transform(english_news_df['Label'])\n",
        "\n",
        "# The mapping between original labels and encoded values\n",
        "label_mapping = dict(zip(label_encoder.classes_, label_encoder.transform(label_encoder.classes_)))\n",
        "# Print the mapping\n",
        "print(\"Label Mapping:\", label_mapping)"
      ]
    },
    {
      "cell_type": "code",
      "execution_count": 19,
      "id": "d3f31433-95c8-45f4-9398-593b11328553",
      "metadata": {
        "id": "d3f31433-95c8-45f4-9398-593b11328553",
        "tags": []
      },
      "outputs": [],
      "source": [
        "X = english_news_df['Content']\n",
        "y = english_news_df['Label']\n",
        "\n",
        "# Split the data into training and testing sets\n",
        "X_train, X_test, y_train, y_test = train_test_split(X, y, test_size=0.7, random_state=42)"
      ]
    },
    {
      "cell_type": "code",
      "execution_count": 20,
      "id": "fd6c4825-e309-4f53-853a-23e39af4bdd2",
      "metadata": {
        "colab": {
          "base_uri": "https://localhost:8080/"
        },
        "id": "fd6c4825-e309-4f53-853a-23e39af4bdd2",
        "outputId": "9f2cd07f-720a-4d41-b468-69b7005a7680",
        "tags": []
      },
      "outputs": [
        {
          "output_type": "stream",
          "name": "stdout",
          "text": [
            "119472\n"
          ]
        }
      ],
      "source": [
        "vectorizer = CountVectorizer()\n",
        "\n",
        "# Fit and transform the 'text' column to get the document-term matrix\n",
        "temp = vectorizer.fit_transform(english_news_df['Content'])\n",
        "\n",
        "# Get the vocabulary from the vectorizer\n",
        "english_vocabulary = vectorizer.get_feature_names_out()\n",
        "\n",
        "# Get the size of the vocabulary\n",
        "vocabulary_size = len(english_vocabulary)\n",
        "print(vocabulary_size)"
      ]
    },
    {
      "cell_type": "markdown",
      "id": "84vih78Hb5aB",
      "metadata": {
        "id": "84vih78Hb5aB"
      },
      "source": [
        "#### Count Vectorizer"
      ]
    },
    {
      "cell_type": "markdown",
      "id": "yf--MCzQby7y",
      "metadata": {
        "id": "yf--MCzQby7y"
      },
      "source": [
        "#### Setting the range of parameters for tuning"
      ]
    },
    {
      "cell_type": "code",
      "execution_count": 21,
      "id": "lFrlmhsnby74",
      "metadata": {
        "id": "lFrlmhsnby74",
        "tags": []
      },
      "outputs": [],
      "source": [
        "param_dist_count = {\n",
        "    'vectorizer__ngram_range': [(1, 1), (1, 2), (2, 2)],\n",
        "    'classifier__n_estimators': range(50,201,10),\n",
        "    'classifier__max_depth': np.arange(3,7,1),\n",
        "    'classifier__learning_rate': np.arange(0.1,2.0,0.1),\n",
        "}"
      ]
    },
    {
      "cell_type": "markdown",
      "id": "cnH6vDSoby74",
      "metadata": {
        "id": "cnH6vDSoby74"
      },
      "source": [
        "##### Using the Whole Vocabulary"
      ]
    },
    {
      "cell_type": "code",
      "execution_count": 29,
      "id": "I6ijynTHby74",
      "metadata": {
        "colab": {
          "base_uri": "https://localhost:8080/",
          "height": 407
        },
        "id": "I6ijynTHby74",
        "outputId": "1ee14177-1627-4b9b-c7cf-9627cd94a652",
        "tags": []
      },
      "outputs": [
        {
          "output_type": "stream",
          "name": "stdout",
          "text": [
            "Fitting 3 folds for each of 15 candidates, totalling 45 fits\n"
          ]
        },
        {
          "output_type": "error",
          "ename": "KeyboardInterrupt",
          "evalue": "",
          "traceback": [
            "\u001b[0;31m---------------------------------------------------------------------------\u001b[0m",
            "\u001b[0;31mKeyboardInterrupt\u001b[0m                         Traceback (most recent call last)",
            "\u001b[0;32m<ipython-input-29-28c572c6231a>\u001b[0m in \u001b[0;36m<cell line: 18>\u001b[0;34m()\u001b[0m\n\u001b[1;32m     16\u001b[0m \u001b[0;31m# Record the training time\u001b[0m\u001b[0;34m\u001b[0m\u001b[0;34m\u001b[0m\u001b[0m\n\u001b[1;32m     17\u001b[0m \u001b[0mstart_time\u001b[0m \u001b[0;34m=\u001b[0m \u001b[0mtime\u001b[0m\u001b[0;34m.\u001b[0m\u001b[0mtime\u001b[0m\u001b[0;34m(\u001b[0m\u001b[0;34m)\u001b[0m\u001b[0;34m\u001b[0m\u001b[0;34m\u001b[0m\u001b[0m\n\u001b[0;32m---> 18\u001b[0;31m \u001b[0mrandom_search\u001b[0m\u001b[0;34m.\u001b[0m\u001b[0mfit\u001b[0m\u001b[0;34m(\u001b[0m\u001b[0mX_train\u001b[0m\u001b[0;34m,\u001b[0m \u001b[0my_train\u001b[0m\u001b[0;34m)\u001b[0m\u001b[0;34m\u001b[0m\u001b[0;34m\u001b[0m\u001b[0m\n\u001b[0m\u001b[1;32m     19\u001b[0m \u001b[0mend_time\u001b[0m \u001b[0;34m=\u001b[0m \u001b[0mtime\u001b[0m\u001b[0;34m.\u001b[0m\u001b[0mtime\u001b[0m\u001b[0;34m(\u001b[0m\u001b[0;34m)\u001b[0m\u001b[0;34m\u001b[0m\u001b[0;34m\u001b[0m\u001b[0m\n\u001b[1;32m     20\u001b[0m \u001b[0mtraining_time_count_whole2\u001b[0m \u001b[0;34m=\u001b[0m \u001b[0mend_time\u001b[0m \u001b[0;34m-\u001b[0m \u001b[0mstart_time\u001b[0m\u001b[0;34m\u001b[0m\u001b[0;34m\u001b[0m\u001b[0m\n",
            "\u001b[0;32m/usr/local/lib/python3.10/dist-packages/sklearn/model_selection/_search.py\u001b[0m in \u001b[0;36mfit\u001b[0;34m(self, X, y, groups, **fit_params)\u001b[0m\n\u001b[1;32m    872\u001b[0m                 \u001b[0;32mreturn\u001b[0m \u001b[0mresults\u001b[0m\u001b[0;34m\u001b[0m\u001b[0;34m\u001b[0m\u001b[0m\n\u001b[1;32m    873\u001b[0m \u001b[0;34m\u001b[0m\u001b[0m\n\u001b[0;32m--> 874\u001b[0;31m             \u001b[0mself\u001b[0m\u001b[0;34m.\u001b[0m\u001b[0m_run_search\u001b[0m\u001b[0;34m(\u001b[0m\u001b[0mevaluate_candidates\u001b[0m\u001b[0;34m)\u001b[0m\u001b[0;34m\u001b[0m\u001b[0;34m\u001b[0m\u001b[0m\n\u001b[0m\u001b[1;32m    875\u001b[0m \u001b[0;34m\u001b[0m\u001b[0m\n\u001b[1;32m    876\u001b[0m             \u001b[0;31m# multimetric is determined here because in the case of a callable\u001b[0m\u001b[0;34m\u001b[0m\u001b[0;34m\u001b[0m\u001b[0m\n",
            "\u001b[0;32m/usr/local/lib/python3.10/dist-packages/sklearn/model_selection/_search.py\u001b[0m in \u001b[0;36m_run_search\u001b[0;34m(self, evaluate_candidates)\u001b[0m\n\u001b[1;32m   1766\u001b[0m     \u001b[0;32mdef\u001b[0m \u001b[0m_run_search\u001b[0m\u001b[0;34m(\u001b[0m\u001b[0mself\u001b[0m\u001b[0;34m,\u001b[0m \u001b[0mevaluate_candidates\u001b[0m\u001b[0;34m)\u001b[0m\u001b[0;34m:\u001b[0m\u001b[0;34m\u001b[0m\u001b[0;34m\u001b[0m\u001b[0m\n\u001b[1;32m   1767\u001b[0m         \u001b[0;34m\"\"\"Search n_iter candidates from param_distributions\"\"\"\u001b[0m\u001b[0;34m\u001b[0m\u001b[0;34m\u001b[0m\u001b[0m\n\u001b[0;32m-> 1768\u001b[0;31m         evaluate_candidates(\n\u001b[0m\u001b[1;32m   1769\u001b[0m             ParameterSampler(\n\u001b[1;32m   1770\u001b[0m                 \u001b[0mself\u001b[0m\u001b[0;34m.\u001b[0m\u001b[0mparam_distributions\u001b[0m\u001b[0;34m,\u001b[0m \u001b[0mself\u001b[0m\u001b[0;34m.\u001b[0m\u001b[0mn_iter\u001b[0m\u001b[0;34m,\u001b[0m \u001b[0mrandom_state\u001b[0m\u001b[0;34m=\u001b[0m\u001b[0mself\u001b[0m\u001b[0;34m.\u001b[0m\u001b[0mrandom_state\u001b[0m\u001b[0;34m\u001b[0m\u001b[0;34m\u001b[0m\u001b[0m\n",
            "\u001b[0;32m/usr/local/lib/python3.10/dist-packages/sklearn/model_selection/_search.py\u001b[0m in \u001b[0;36mevaluate_candidates\u001b[0;34m(candidate_params, cv, more_results)\u001b[0m\n\u001b[1;32m    819\u001b[0m                     )\n\u001b[1;32m    820\u001b[0m \u001b[0;34m\u001b[0m\u001b[0m\n\u001b[0;32m--> 821\u001b[0;31m                 out = parallel(\n\u001b[0m\u001b[1;32m    822\u001b[0m                     delayed(_fit_and_score)(\n\u001b[1;32m    823\u001b[0m                         \u001b[0mclone\u001b[0m\u001b[0;34m(\u001b[0m\u001b[0mbase_estimator\u001b[0m\u001b[0;34m)\u001b[0m\u001b[0;34m,\u001b[0m\u001b[0;34m\u001b[0m\u001b[0;34m\u001b[0m\u001b[0m\n",
            "\u001b[0;32m/usr/local/lib/python3.10/dist-packages/sklearn/utils/parallel.py\u001b[0m in \u001b[0;36m__call__\u001b[0;34m(self, iterable)\u001b[0m\n\u001b[1;32m     61\u001b[0m             \u001b[0;32mfor\u001b[0m \u001b[0mdelayed_func\u001b[0m\u001b[0;34m,\u001b[0m \u001b[0margs\u001b[0m\u001b[0;34m,\u001b[0m \u001b[0mkwargs\u001b[0m \u001b[0;32min\u001b[0m \u001b[0miterable\u001b[0m\u001b[0;34m\u001b[0m\u001b[0;34m\u001b[0m\u001b[0m\n\u001b[1;32m     62\u001b[0m         )\n\u001b[0;32m---> 63\u001b[0;31m         \u001b[0;32mreturn\u001b[0m \u001b[0msuper\u001b[0m\u001b[0;34m(\u001b[0m\u001b[0;34m)\u001b[0m\u001b[0;34m.\u001b[0m\u001b[0m__call__\u001b[0m\u001b[0;34m(\u001b[0m\u001b[0miterable_with_config\u001b[0m\u001b[0;34m)\u001b[0m\u001b[0;34m\u001b[0m\u001b[0;34m\u001b[0m\u001b[0m\n\u001b[0m\u001b[1;32m     64\u001b[0m \u001b[0;34m\u001b[0m\u001b[0m\n\u001b[1;32m     65\u001b[0m \u001b[0;34m\u001b[0m\u001b[0m\n",
            "\u001b[0;32m/usr/local/lib/python3.10/dist-packages/joblib/parallel.py\u001b[0m in \u001b[0;36m__call__\u001b[0;34m(self, iterable)\u001b[0m\n\u001b[1;32m   1950\u001b[0m         \u001b[0mnext\u001b[0m\u001b[0;34m(\u001b[0m\u001b[0moutput\u001b[0m\u001b[0;34m)\u001b[0m\u001b[0;34m\u001b[0m\u001b[0;34m\u001b[0m\u001b[0m\n\u001b[1;32m   1951\u001b[0m \u001b[0;34m\u001b[0m\u001b[0m\n\u001b[0;32m-> 1952\u001b[0;31m         \u001b[0;32mreturn\u001b[0m \u001b[0moutput\u001b[0m \u001b[0;32mif\u001b[0m \u001b[0mself\u001b[0m\u001b[0;34m.\u001b[0m\u001b[0mreturn_generator\u001b[0m \u001b[0;32melse\u001b[0m \u001b[0mlist\u001b[0m\u001b[0;34m(\u001b[0m\u001b[0moutput\u001b[0m\u001b[0;34m)\u001b[0m\u001b[0;34m\u001b[0m\u001b[0;34m\u001b[0m\u001b[0m\n\u001b[0m\u001b[1;32m   1953\u001b[0m \u001b[0;34m\u001b[0m\u001b[0m\n\u001b[1;32m   1954\u001b[0m     \u001b[0;32mdef\u001b[0m \u001b[0m__repr__\u001b[0m\u001b[0;34m(\u001b[0m\u001b[0mself\u001b[0m\u001b[0;34m)\u001b[0m\u001b[0;34m:\u001b[0m\u001b[0;34m\u001b[0m\u001b[0;34m\u001b[0m\u001b[0m\n",
            "\u001b[0;32m/usr/local/lib/python3.10/dist-packages/joblib/parallel.py\u001b[0m in \u001b[0;36m_get_outputs\u001b[0;34m(self, iterator, pre_dispatch)\u001b[0m\n\u001b[1;32m   1593\u001b[0m \u001b[0;34m\u001b[0m\u001b[0m\n\u001b[1;32m   1594\u001b[0m             \u001b[0;32mwith\u001b[0m \u001b[0mself\u001b[0m\u001b[0;34m.\u001b[0m\u001b[0m_backend\u001b[0m\u001b[0;34m.\u001b[0m\u001b[0mretrieval_context\u001b[0m\u001b[0;34m(\u001b[0m\u001b[0;34m)\u001b[0m\u001b[0;34m:\u001b[0m\u001b[0;34m\u001b[0m\u001b[0;34m\u001b[0m\u001b[0m\n\u001b[0;32m-> 1595\u001b[0;31m                 \u001b[0;32myield\u001b[0m \u001b[0;32mfrom\u001b[0m \u001b[0mself\u001b[0m\u001b[0;34m.\u001b[0m\u001b[0m_retrieve\u001b[0m\u001b[0;34m(\u001b[0m\u001b[0;34m)\u001b[0m\u001b[0;34m\u001b[0m\u001b[0;34m\u001b[0m\u001b[0m\n\u001b[0m\u001b[1;32m   1596\u001b[0m \u001b[0;34m\u001b[0m\u001b[0m\n\u001b[1;32m   1597\u001b[0m         \u001b[0;32mexcept\u001b[0m \u001b[0mGeneratorExit\u001b[0m\u001b[0;34m:\u001b[0m\u001b[0;34m\u001b[0m\u001b[0;34m\u001b[0m\u001b[0m\n",
            "\u001b[0;32m/usr/local/lib/python3.10/dist-packages/joblib/parallel.py\u001b[0m in \u001b[0;36m_retrieve\u001b[0;34m(self)\u001b[0m\n\u001b[1;32m   1705\u001b[0m                 (self._jobs[0].get_status(\n\u001b[1;32m   1706\u001b[0m                     timeout=self.timeout) == TASK_PENDING)):\n\u001b[0;32m-> 1707\u001b[0;31m                 \u001b[0mtime\u001b[0m\u001b[0;34m.\u001b[0m\u001b[0msleep\u001b[0m\u001b[0;34m(\u001b[0m\u001b[0;36m0.01\u001b[0m\u001b[0;34m)\u001b[0m\u001b[0;34m\u001b[0m\u001b[0;34m\u001b[0m\u001b[0m\n\u001b[0m\u001b[1;32m   1708\u001b[0m                 \u001b[0;32mcontinue\u001b[0m\u001b[0;34m\u001b[0m\u001b[0;34m\u001b[0m\u001b[0m\n\u001b[1;32m   1709\u001b[0m \u001b[0;34m\u001b[0m\u001b[0m\n",
            "\u001b[0;31mKeyboardInterrupt\u001b[0m: "
          ]
        }
      ],
      "source": [
        "pipeline = Pipeline([\n",
        "    ('vectorizer', CountVectorizer()),\n",
        "    ('classifier', XGBClassifier())\n",
        "])\n",
        "random_search = RandomizedSearchCV(\n",
        "    pipeline,\n",
        "    param_distributions=param_dist_count,\n",
        "    n_iter=15,\n",
        "    scoring='f1',\n",
        "    n_jobs=8,\n",
        "    cv=3,\n",
        "    verbose=1,\n",
        "    random_state=42\n",
        ")\n",
        "\n",
        "# Record the training time\n",
        "start_time = time.time()\n",
        "random_search.fit(X_train, y_train)\n",
        "end_time = time.time()\n",
        "training_time_count_whole2 = end_time - start_time\n",
        "\n",
        "# Print the best parameters and best score\n",
        "print(\"Best Parameters: \", random_search.best_params_)\n",
        "print(\"Best F1 Score: {:.4f}\".format(random_search.best_score_))\n",
        "\n",
        "# # Evaluate the model on the test set\n",
        "test_f1_score = random_search.score(X_test, y_test)\n",
        "print(\"Test F1: {:.4f}\".format(test_f1_score))\n",
        "print(\"Training time for whole data set: {:.4f}\".format(training_time_count_whole2))\n"
      ]
    },
    {
      "cell_type": "code",
      "execution_count": 22,
      "id": "LMd_kzioby74",
      "metadata": {
        "id": "LMd_kzioby74",
        "tags": [],
        "colab": {
          "base_uri": "https://localhost:8080/"
        },
        "outputId": "0c7e5ecb-8ca2-4c03-e074-ce0c38894ba5"
      },
      "outputs": [
        {
          "output_type": "stream",
          "name": "stdout",
          "text": [
            "Fitting 3 folds for each of 15 candidates, totalling 45 fits\n",
            "Fitting 3 folds for each of 15 candidates, totalling 45 fits\n",
            "Fitting 3 folds for each of 15 candidates, totalling 45 fits\n",
            "Fitting 3 folds for each of 15 candidates, totalling 45 fits\n",
            "Fitting 3 folds for each of 15 candidates, totalling 45 fits\n",
            "Fitting 3 folds for each of 15 candidates, totalling 45 fits\n",
            "Fitting 3 folds for each of 15 candidates, totalling 45 fits\n",
            "\n",
            "Overall Best Test F1 Score: 0.923964441081899\n",
            "Corresponding Best max_features: 8000\n",
            "Corresponding Best Parameters: {'vectorizer__ngram_range': (1, 2), 'classifier__n_estimators': 160, 'classifier__max_depth': 4, 'classifier__learning_rate': 0.30000000000000004}\n"
          ]
        }
      ],
      "source": [
        "training_times_count_dataset2 = []\n",
        "\n",
        "best_count_f1_dataset2 = 0.0\n",
        "best_count_max_features_dataset2 = None\n",
        "best_count_parameters_dataset2 = {}\n",
        "\n",
        "# Initialize the RandomizedSearchCV\n",
        "for max_features in range(500,10001,1500):\n",
        "    # Create a pipeline with CountVectorizer and XGBoost\n",
        "    pipeline = Pipeline([\n",
        "        ('vectorizer', CountVectorizer(max_features=max_features)),\n",
        "        ('classifier', XGBClassifier())\n",
        "    ])\n",
        "    random_search = RandomizedSearchCV(\n",
        "        pipeline,\n",
        "        param_distributions=param_dist_count,\n",
        "        n_iter=15,\n",
        "        scoring='f1',\n",
        "        n_jobs=8,\n",
        "        cv=3,\n",
        "        verbose=1,\n",
        "        random_state=42\n",
        "    )\n",
        "\n",
        "    # Record the training time\n",
        "    start_time = time.time()\n",
        "    # Fit the model\n",
        "    random_search.fit(X_train, y_train)\n",
        "\n",
        "    end_time = time.time()\n",
        "\n",
        "    # Calculate and store the training time\n",
        "    training_time = end_time - start_time\n",
        "    training_times_count_dataset2.append(training_time)\n",
        "\n",
        "    # # Print the best parameters and best score\n",
        "    # print(\"Best Parameters: \", random_search.best_params_)\n",
        "    # print(\"Best F1 Score: {:.4f}\".format(random_search.best_score_))\n",
        "\n",
        "    # # Evaluate the model on the test set\n",
        "    test_f1_score = random_search.score(X_test, y_test)\n",
        "    # print(\"Test F1: {:.4f}\".format(test_score_f1))\n",
        "\n",
        "     # Update the best test accuracy if the current iteration performs better\n",
        "    if test_f1_score > best_count_f1_dataset2:\n",
        "        best_count_f1_dataset2 = test_f1_score\n",
        "        best_count_max_features_dataset2 = max_features\n",
        "        best_count_parameters_dataset2 = random_search.best_params_\n",
        "\n",
        "# Print the overall best test accuracy and corresponding parameters\n",
        "print(\"\\nOverall Best Test F1 Score:\", best_count_f1_dataset2)\n",
        "print(\"Corresponding Best max_features:\", best_count_max_features_dataset2)\n",
        "print(\"Corresponding Best Parameters:\", best_count_parameters_dataset2)"
      ]
    },
    {
      "cell_type": "markdown",
      "id": "PFMPhMWUby75",
      "metadata": {
        "id": "PFMPhMWUby75"
      },
      "source": [
        "#### Training Time vs Number of Features in Vocabulary"
      ]
    },
    {
      "cell_type": "code",
      "execution_count": 23,
      "id": "414d4b61-342f-4268-a2e0-3fb6a454a732",
      "metadata": {
        "colab": {
          "base_uri": "https://localhost:8080/"
        },
        "id": "414d4b61-342f-4268-a2e0-3fb6a454a732",
        "outputId": "c502b542-918e-45ca-b3e6-29f5f3adf009"
      },
      "outputs": [
        {
          "output_type": "execute_result",
          "data": {
            "text/plain": [
              "[161.271160364151,\n",
              " 170.36433267593384,\n",
              " 183.0112977027893,\n",
              " 191.8761329650879,\n",
              " 203.63714838027954,\n",
              " 210.11015272140503,\n",
              " 215.5150182247162]"
            ]
          },
          "metadata": {},
          "execution_count": 23
        }
      ],
      "source": [
        "training_times_count_dataset2"
      ]
    },
    {
      "cell_type": "code",
      "execution_count": 24,
      "id": "dBoCntbnby75",
      "metadata": {
        "id": "dBoCntbnby75",
        "tags": [],
        "colab": {
          "base_uri": "https://localhost:8080/",
          "height": 472
        },
        "outputId": "6dcd98d5-c1f9-4d70-d6b2-1752594e33c9"
      },
      "outputs": [
        {
          "output_type": "display_data",
          "data": {
            "text/plain": [
              "<Figure size 640x480 with 1 Axes>"
            ],
            "image/png": "[encoded data removed]"
          },
          "metadata": {}
        }
      ],
      "source": [
        "# Plot or analyze the training times against the dataset size\n",
        "plt.plot(range(500,10001,1500), training_times_count_dataset2, marker='o')\n",
        "plt.title('Training Time vs Number of Features for XGBoost with Count Vectorizer')\n",
        "plt.xlabel('Vocabularzy Size')\n",
        "plt.ylabel('Training Time (seconds)')\n",
        "plt.show()"
      ]
    },
    {
      "cell_type": "markdown",
      "id": "dMT3xz4veoCE",
      "metadata": {
        "id": "dMT3xz4veoCE"
      },
      "source": [
        "#### Tf-IDf Vectorizer"
      ]
    },
    {
      "cell_type": "markdown",
      "id": "KCQKcKq6eoCK",
      "metadata": {
        "id": "KCQKcKq6eoCK"
      },
      "source": [
        "#### Defining the parameter grid for Tf-Idf"
      ]
    },
    {
      "cell_type": "code",
      "execution_count": 25,
      "id": "iQSb_XI0eoCK",
      "metadata": {
        "id": "iQSb_XI0eoCK",
        "tags": []
      },
      "outputs": [],
      "source": [
        "# Define the parameter grid for RandomizedSearchCV\n",
        "param_dist_tfidf = {\n",
        "    'vectorizer__ngram_range': [(1, 1), (1, 2), (2, 2)],\n",
        "    'classifier__n_estimators': range(50,201,10),\n",
        "    'classifier__max_depth': np.arange(3,7,1),\n",
        "    'classifier__learning_rate': np.arange(0.1,2.0,0.1),\n",
        "}\n"
      ]
    },
    {
      "cell_type": "markdown",
      "id": "gClYXZ8OertF",
      "metadata": {
        "id": "gClYXZ8OertF"
      },
      "source": [
        "#### Using Tf-Idf for the whole dataset"
      ]
    },
    {
      "cell_type": "code",
      "execution_count": null,
      "id": "wekf6sFWertL",
      "metadata": {
        "id": "wekf6sFWertL",
        "tags": []
      },
      "outputs": [],
      "source": [
        "pipeline = Pipeline([\n",
        "    ('vectorizer', TfidfVectorizer()),\n",
        "    ('classifier', XGBClassifier())\n",
        "])\n",
        "random_search = RandomizedSearchCV(\n",
        "    pipeline,\n",
        "    param_distributions=param_dist_tfidf,\n",
        "    n_iter=15,\n",
        "    scoring='f1',\n",
        "    n_jobs=6,\n",
        "    cv=3,\n",
        "    verbose=1,\n",
        "    random_state=42\n",
        ")\n",
        "\n",
        "# Record the training time\n",
        "start_time = time.time()\n",
        "# Fit the model\n",
        "random_search.fit(X_train, y_train)\n",
        "\n",
        "end_time = time.time()\n",
        "\n",
        "# Calculate and store the training time\n",
        "training_time_tfidf_whole = end_time - start_time\n",
        "\n",
        "# # Print the best parameters and best score\n",
        "print(\"Best Parameters: \", random_search.best_params_)\n",
        "print(\"Best F1 Score: {:.4f}\".format(random_search.best_score_))\n",
        "\n",
        "# # Evaluate the model on the test set\n",
        "test_f1_score = random_search.score(X_test, y_test)\n",
        "print(\"Test F1: {:.4f}\".format(test_f1_score))\n",
        "print(\"Training time for whole data set: {:.4f}\".format(training_time_tfidf_whole))"
      ]
    },
    {
      "cell_type": "markdown",
      "id": "i4H1c_a7ertL",
      "metadata": {
        "id": "i4H1c_a7ertL"
      },
      "source": [
        "#### Parameter Tuning"
      ]
    },
    {
      "cell_type": "code",
      "execution_count": 26,
      "id": "Dpm4U4bHertL",
      "metadata": {
        "id": "Dpm4U4bHertL",
        "tags": [],
        "colab": {
          "base_uri": "https://localhost:8080/"
        },
        "outputId": "3131a599-ea07-4104-8765-b963ab4d37b0"
      },
      "outputs": [
        {
          "output_type": "stream",
          "name": "stdout",
          "text": [
            "Fitting 3 folds for each of 15 candidates, totalling 45 fits\n",
            "Fitting 3 folds for each of 15 candidates, totalling 45 fits\n",
            "Fitting 3 folds for each of 15 candidates, totalling 45 fits\n",
            "Fitting 3 folds for each of 15 candidates, totalling 45 fits\n",
            "Fitting 3 folds for each of 15 candidates, totalling 45 fits\n",
            "Fitting 3 folds for each of 15 candidates, totalling 45 fits\n",
            "Fitting 3 folds for each of 15 candidates, totalling 45 fits\n",
            "\n",
            "Overall Best Test F1 Score: 0.923251847640705\n",
            "Corresponding Best max_features: 8000\n",
            "Corresponding Best Parameters: {'vectorizer__ngram_range': (1, 2), 'classifier__n_estimators': 160, 'classifier__max_depth': 4, 'classifier__learning_rate': 0.30000000000000004}\n"
          ]
        }
      ],
      "source": [
        "training_times_tfidf = []\n",
        "\n",
        "best_tfidf_f1 = 0.0\n",
        "best_tfidf_max_features = None\n",
        "best_tfidf_parameters = {}\n",
        "\n",
        "# Initialize the RandomizedSearchCV\n",
        "for max_features in range(500,10001,1500):\n",
        "    # Create a pipeline with tfidfVectorizer and XGBoost\n",
        "    pipeline = Pipeline([\n",
        "        ('vectorizer', TfidfVectorizer(max_features=max_features)),\n",
        "        ('classifier', XGBClassifier())\n",
        "    ])\n",
        "    random_search = RandomizedSearchCV(\n",
        "        pipeline,\n",
        "        param_distributions=param_dist_tfidf,\n",
        "        n_iter=15,\n",
        "        scoring='f1',\n",
        "        n_jobs=8,\n",
        "        cv=3,\n",
        "        verbose=1,\n",
        "        random_state=42\n",
        "    )\n",
        "\n",
        "    # Record the training time\n",
        "    start_time = time.time()\n",
        "    # Fit the model\n",
        "    random_search.fit(X_train, y_train)\n",
        "\n",
        "    end_time = time.time()\n",
        "\n",
        "    # Calculate and store the training time\n",
        "    training_time = end_time - start_time\n",
        "    training_times_tfidf.append(training_time)\n",
        "\n",
        "    # # Print the best parameters and best score\n",
        "    # print(\"Best Parameters: \", random_search.best_params_)\n",
        "    # print(\"Best F1 Score: {:.4f}\".format(random_search.best_score_))\n",
        "\n",
        "    # # Evaluate the model on the test set\n",
        "    test_f1_score = random_search.score(X_test, y_test)\n",
        "    # print(\"Test F1: {:.4f}\".format(test_f1_score))\n",
        "\n",
        "     # Update the best test accuracy if the current iteration performs better\n",
        "    if test_f1_score > best_tfidf_f1:\n",
        "        best_tfidf_f1 = test_f1_score\n",
        "        best_tfidf_max_features = max_features\n",
        "        best_tfidf_parameters = random_search.best_params_\n",
        "\n",
        "# Print the overall best test accuracy and corresponding parameters\n",
        "print(\"\\nOverall Best Test F1 Score:\", best_tfidf_f1)\n",
        "print(\"Corresponding Best max_features:\", best_tfidf_max_features)\n",
        "print(\"Corresponding Best Parameters:\", best_tfidf_parameters)"
      ]
    },
    {
      "cell_type": "code",
      "execution_count": 27,
      "id": "7f8093bc-3ab4-4ebc-92cd-a118d71c7b7b",
      "metadata": {
        "colab": {
          "base_uri": "https://localhost:8080/"
        },
        "id": "7f8093bc-3ab4-4ebc-92cd-a118d71c7b7b",
        "outputId": "bd56747a-8db3-41c9-fc7d-b3b5df9dd973"
      },
      "outputs": [
        {
          "output_type": "execute_result",
          "data": {
            "text/plain": [
              "[299.7906835079193,\n",
              " 464.9085040092468,\n",
              " 530.2437424659729,\n",
              " 572.7509367465973,\n",
              " 602.4410536289215,\n",
              " 625.8120522499084,\n",
              " 633.9540543556213]"
            ]
          },
          "metadata": {},
          "execution_count": 27
        }
      ],
      "source": [
        "training_times_tfidf"
      ]
    },
    {
      "cell_type": "code",
      "execution_count": 28,
      "id": "gn1DOJmtertL",
      "metadata": {
        "id": "gn1DOJmtertL",
        "tags": [],
        "colab": {
          "base_uri": "https://localhost:8080/",
          "height": 472
        },
        "outputId": "4432aa6b-27cc-4805-8893-c27604cf4a43"
      },
      "outputs": [
        {
          "output_type": "display_data",
          "data": {
            "text/plain": [
              "<Figure size 640x480 with 1 Axes>"
            ],
            "image/png": "[encoded data removed]"
          },
          "metadata": {}
        }
      ],
      "source": [
        "# Plot or analyze the training times against the dataset size\n",
        "plt.plot(range(500,10001,1500), training_times_tfidf, marker='o')\n",
        "plt.title('Training Time vs Number of Features for Naive Bayes with Tf-Idf Vectorizer')\n",
        "plt.xlabel('Dataset Size')\n",
        "plt.ylabel('Training Time (seconds)')\n",
        "plt.show()"
      ]
    },
    {
      "cell_type": "code",
      "execution_count": null,
      "id": "1bt7rNfle1CI",
      "metadata": {
        "id": "1bt7rNfle1CI"
      },
      "outputs": [],
      "source": []
    }
  ],
  "metadata": {
    "colab": {
      "provenance": []
    },
    "environment": {
      "kernel": "python3",
      "name": "common-cpu.m114",
      "type": "gcloud",
      "uri": "gcr.io/deeplearning-platform-release/base-cpu:m114"
    },
    "kernelspec": {
      "display_name": "Python 3 (Local)",
      "language": "python",
      "name": "python3"
    },
    "language_info": {
      "codemirror_mode": {
        "name": "ipython",
        "version": 3
      },
      "file_extension": ".py",
      "mimetype": "text/x-python",
      "name": "python",
      "nbconvert_exporter": "python",
      "pygments_lexer": "ipython3",
      "version": "3.10.13"
    }
  },
  "nbformat": 4,
  "nbformat_minor": 5
}